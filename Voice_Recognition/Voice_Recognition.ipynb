{
 "cells": [
  {
   "cell_type": "markdown",
   "metadata": {
    "id": "0t6neOCDd-dy"
   },
   "source": [
    "# Project Summary\n",
    "\n",
    "- I will build a system that can automatically recognize speech and summarize it, such as transcribing and summarizing lecture recordings, podcasts, or videos.\n",
    "\n",
    "\n",
    "- **Project Steps**:\n",
    "\n",
    "  - Build a voice recognition system using vosk package\n",
    "  - Add punctuation back to the text transcript using recasepunc package\n",
    "  - Summarize the text using a huggingface summarization pipeline\n",
    "\n",
    "\n",
    "- **Files Overview**:\n",
    "\n",
    "  - shortwave_60s.mp3 - a 60 second English audio clip to train the model\n",
    "  - shortwave.mp3 - a 25 minute English audio clip to test the model\n",
    "  - wuxiaobu_50s.mp3 - a 50 second Chinese audio clip to train the model\n",
    "  - wuxiaobu.mp3 - a 29 minute Chinese audio clip to test the model\n",
    "  \n",
    "  \n",
    "  https://www.npr.org/2022/06/03/1102930066/pride-week-the-importance-of-inclusion-in-sex-education\n",
    "  \n"
   ]
  },
  {
   "cell_type": "markdown",
   "metadata": {
    "id": "rTvsfBfig3XJ",
    "tags": []
   },
   "source": [
    "# Step 1: Build a voice recognition system"
   ]
  },
  {
   "cell_type": "markdown",
   "metadata": {
    "id": "7mOJfwCohsp_"
   },
   "source": [
    "## Install the vosk package"
   ]
  },
  {
   "cell_type": "code",
   "execution_count": 1,
   "metadata": {
    "colab": {
     "base_uri": "https://localhost:8080/"
    },
    "id": "ZRLWQNBdRnZE",
    "outputId": "c5e80e76-6dd1-47c7-9e57-1f0c4f637457"
   },
   "outputs": [
    {
     "name": "stdout",
     "output_type": "stream",
     "text": [
      "Requirement already satisfied: vosk in /Users/moonqj/miniforge3/envs/m1/lib/python3.8/site-packages (0.3.42)\n",
      "Requirement already satisfied: srt in /Users/moonqj/miniforge3/envs/m1/lib/python3.8/site-packages (from vosk) (3.5.2)\n",
      "Requirement already satisfied: tqdm in /Users/moonqj/miniforge3/envs/m1/lib/python3.8/site-packages (from vosk) (4.63.0)\n",
      "Requirement already satisfied: cffi>=1.0 in /Users/moonqj/miniforge3/envs/m1/lib/python3.8/site-packages (from vosk) (1.15.0)\n",
      "Requirement already satisfied: requests in /Users/moonqj/miniforge3/envs/m1/lib/python3.8/site-packages (from vosk) (2.27.1)\n",
      "Requirement already satisfied: pycparser in /Users/moonqj/miniforge3/envs/m1/lib/python3.8/site-packages (from cffi>=1.0->vosk) (2.21)\n",
      "Requirement already satisfied: certifi>=2017.4.17 in /Users/moonqj/miniforge3/envs/m1/lib/python3.8/site-packages (from requests->vosk) (2022.5.18.1)\n",
      "Requirement already satisfied: charset-normalizer~=2.0.0 in /Users/moonqj/miniforge3/envs/m1/lib/python3.8/site-packages (from requests->vosk) (2.0.12)\n",
      "Requirement already satisfied: idna<4,>=2.5 in /Users/moonqj/miniforge3/envs/m1/lib/python3.8/site-packages (from requests->vosk) (3.3)\n",
      "Requirement already satisfied: urllib3<1.27,>=1.21.1 in /Users/moonqj/miniforge3/envs/m1/lib/python3.8/site-packages (from requests->vosk) (1.26.9)\n"
     ]
    }
   ],
   "source": [
    "!pip install vosk"
   ]
  },
  {
   "cell_type": "code",
   "execution_count": 2,
   "metadata": {
    "id": "Jz9egQKwRwgr"
   },
   "outputs": [],
   "source": [
    "from vosk import Model, KaldiRecognizer"
   ]
  },
  {
   "cell_type": "markdown",
   "metadata": {
    "id": "iG0yiWOuV7cC"
   },
   "source": [
    "## Download and initiate the vosk-model-en-us for voice recognition"
   ]
  },
  {
   "cell_type": "code",
   "execution_count": 3,
   "metadata": {
    "id": "T8Z10YMYR_1s"
   },
   "outputs": [
    {
     "name": "stderr",
     "output_type": "stream",
     "text": [
      "LOG (VoskAPI:ReadDataFiles():model.cc:213) Decoding params beam=10 max-active=3000 lattice-beam=2\n",
      "LOG (VoskAPI:ReadDataFiles():model.cc:216) Silence phones 1:2:3:4:5:6:7:8:9:10\n",
      "LOG (VoskAPI:RemoveOrphanNodes():nnet-nnet.cc:948) Removed 0 orphan nodes.\n",
      "LOG (VoskAPI:RemoveOrphanComponents():nnet-nnet.cc:847) Removing 0 orphan components.\n",
      "LOG (VoskAPI:ReadDataFiles():model.cc:248) Loading i-vector extractor from /Users/moonqj/.cache/vosk/vosk-model-small-en-us-0.15/ivector/final.ie\n",
      "LOG (VoskAPI:ComputeDerivedVars():ivector-extractor.cc:183) Computing derived variables for iVector extractor\n",
      "LOG (VoskAPI:ComputeDerivedVars():ivector-extractor.cc:204) Done.\n",
      "LOG (VoskAPI:ReadDataFiles():model.cc:282) Loading HCL and G from /Users/moonqj/.cache/vosk/vosk-model-small-en-us-0.15/graph/HCLr.fst /Users/moonqj/.cache/vosk/vosk-model-small-en-us-0.15/graph/Gr.fst\n",
      "LOG (VoskAPI:ReadDataFiles():model.cc:303) Loading winfo /Users/moonqj/.cache/vosk/vosk-model-small-en-us-0.15/graph/phones/word_boundary.int\n"
     ]
    }
   ],
   "source": [
    "FRAME_RATE = 16000 # The higher the number, the higher the voice quality\n",
    "CHANNELS = 1\n",
    "\n",
    "# model = Model(model_name = 'vosk-model-en-us-0.22')\n",
    "# For a smaller download size\n",
    "# model is a pretrained model\n",
    "model = Model(model_name=\"vosk-model-small-en-us-0.15\")\n",
    "\n",
    "rec = KaldiRecognizer(model, FRAME_RATE)\n",
    "rec.SetWords(True) # show a complete text transcript and individual words with model confidence in those words"
   ]
  },
  {
   "cell_type": "markdown",
   "metadata": {
    "id": "vCfQbU8xVl0H"
   },
   "source": [
    "## Install the pydub package"
   ]
  },
  {
   "cell_type": "code",
   "execution_count": 4,
   "metadata": {
    "colab": {
     "base_uri": "https://localhost:8080/"
    },
    "id": "ng-erGDgSzSM",
    "outputId": "6b62a279-866f-4e10-f484-0852d2ca3492"
   },
   "outputs": [
    {
     "name": "stdout",
     "output_type": "stream",
     "text": [
      "Requirement already satisfied: pydub in /Users/moonqj/miniforge3/envs/m1/lib/python3.8/site-packages (0.25.1)\n"
     ]
    }
   ],
   "source": [
    "!pip install pydub"
   ]
  },
  {
   "cell_type": "code",
   "execution_count": 5,
   "metadata": {
    "id": "OZaTxM7pTUNV"
   },
   "outputs": [],
   "source": [
    "from pydub import AudioSegment"
   ]
  },
  {
   "cell_type": "markdown",
   "metadata": {
    "id": "dqDRt7f4V05i"
   },
   "source": [
    "## Load mp3.file using AudioSegment from pydub"
   ]
  },
  {
   "cell_type": "code",
   "execution_count": 6,
   "metadata": {
    "id": "CzQRfR8xTX23"
   },
   "outputs": [],
   "source": [
    "mp3 = AudioSegment.from_mp3(\"shortwave_60s.mp3\")\n",
    "mp3 = mp3.set_channels(CHANNELS)\n",
    "mp3 = mp3.set_frame_rate(FRAME_RATE)"
   ]
  },
  {
   "cell_type": "code",
   "execution_count": null,
   "metadata": {},
   "outputs": [],
   "source": [
    "# binary representation of the actual data in mp3\n",
    "mp3.raw_data "
   ]
  },
  {
   "cell_type": "code",
   "execution_count": 8,
   "metadata": {
    "id": "wCvbwYgHTzcW"
   },
   "outputs": [],
   "source": [
    "# rec\n",
    "rec.AcceptWaveform(mp3.raw_data)\n",
    "result = rec.Result()"
   ]
  },
  {
   "cell_type": "code",
   "execution_count": 9,
   "metadata": {
    "colab": {
     "base_uri": "https://localhost:8080/",
     "height": 143
    },
    "id": "MfunBT72UP4t",
    "outputId": "e94fe9ee-b83b-4ca2-a7a9-c6ff884e8f7d"
   },
   "outputs": [
    {
     "data": {
      "text/plain": [
       "\"from npr emily pay separate so few and i'll remember getting caught sex ed in high school kind of adult to be honest i did a lot of my own research like my mom got me some bugs and them when knock got to be like a bit much i got my books and taught myself yes yes me to sympathize i actually with it sneak into the little local bookstore and find our bodies ourselves in like be human development section and surreptitiously read it in one corner and hope that nobody i knew walked in and ask what i was reading little erin little little awkward questioning errant and what is maybe not surprising about this given we had to do our own research is that there is actually no national mandate for sex ed in the us really that kind of surprises me like none yeah and not only that but most sex ed the does exist\""
      ]
     },
     "execution_count": 9,
     "metadata": {},
     "output_type": "execute_result"
    }
   ],
   "source": [
    "import json\n",
    "\n",
    "text = json.loads(result)['text']\n",
    "\n",
    "text # result with no punctuations "
   ]
  },
  {
   "cell_type": "code",
   "execution_count": 29,
   "metadata": {},
   "outputs": [
    {
     "data": {
      "text/plain": [
       "{'result': [{'conf': 1.0, 'end': 1.29, 'start': 1.08, 'word': 'from'},\n",
       "  {'conf': 1.0, 'end': 1.98, 'start': 1.29, 'word': 'npr'},\n",
       "  {'conf': 1.0, 'end': 8.79, 'start': 8.4, 'word': 'emily'},\n",
       "  {'conf': 0.607331, 'end': 9.142041, 'start': 8.79, 'word': 'pay'},\n",
       "  {'conf': 0.347527, 'end': 9.63, 'start': 9.142041, 'word': 'separate'},\n",
       "  {'conf': 0.965751, 'end': 10.05, 'start': 9.69, 'word': 'so'},\n",
       "  {'conf': 0.494293, 'end': 10.53, 'start': 10.23, 'word': 'few'},\n",
       "  {'conf': 0.494293, 'end': 10.62, 'start': 10.53, 'word': 'and'},\n",
       "  {'conf': 0.464595, 'end': 10.77, 'start': 10.62, 'word': \"i'll\"},\n",
       "  {'conf': 1.0, 'end': 11.13, 'start': 10.77, 'word': 'remember'},\n",
       "  {'conf': 1.0, 'end': 11.37, 'start': 11.13, 'word': 'getting'},\n",
       "  {'conf': 0.862953, 'end': 11.64, 'start': 11.37, 'word': 'caught'},\n",
       "  {'conf': 0.976158, 'end': 11.957246, 'start': 11.64, 'word': 'sex'},\n",
       "  {'conf': 0.311309, 'end': 12.089476, 'start': 11.97, 'word': 'ed'},\n",
       "  {'conf': 0.776959, 'end': 12.18, 'start': 12.089476, 'word': 'in'},\n",
       "  {'conf': 0.848892, 'end': 12.33, 'start': 12.18, 'word': 'high'},\n",
       "  {'conf': 0.848892, 'end': 12.69, 'start': 12.33, 'word': 'school'},\n",
       "  {'conf': 1.0, 'end': 14.22, 'start': 13.71, 'word': 'kind'},\n",
       "  {'conf': 1.0, 'end': 14.49, 'start': 14.22, 'word': 'of'},\n",
       "  {'conf': 1.0, 'end': 15.15, 'start': 14.7, 'word': 'adult'},\n",
       "  {'conf': 1.0, 'end': 15.24, 'start': 15.15, 'word': 'to'},\n",
       "  {'conf': 1.0, 'end': 15.33, 'start': 15.24, 'word': 'be'},\n",
       "  {'conf': 1.0, 'end': 15.72, 'start': 15.33, 'word': 'honest'},\n",
       "  {'conf': 1.0, 'end': 16.38, 'start': 15.75, 'word': 'i'},\n",
       "  {'conf': 1.0, 'end': 16.62, 'start': 16.44, 'word': 'did'},\n",
       "  {'conf': 1.0, 'end': 16.65, 'start': 16.62, 'word': 'a'},\n",
       "  {'conf': 1.0, 'end': 16.83, 'start': 16.65, 'word': 'lot'},\n",
       "  {'conf': 1.0, 'end': 16.89, 'start': 16.83, 'word': 'of'},\n",
       "  {'conf': 1.0, 'end': 17.07, 'start': 16.89, 'word': 'my'},\n",
       "  {'conf': 1.0, 'end': 17.34, 'start': 17.07, 'word': 'own'},\n",
       "  {'conf': 1.0, 'end': 17.94, 'start': 17.34, 'word': 'research'},\n",
       "  {'conf': 1.0, 'end': 18.12, 'start': 17.94, 'word': 'like'},\n",
       "  {'conf': 1.0, 'end': 18.24, 'start': 18.12, 'word': 'my'},\n",
       "  {'conf': 1.0, 'end': 18.72, 'start': 18.24, 'word': 'mom'},\n",
       "  {'conf': 1.0, 'end': 18.93, 'start': 18.72, 'word': 'got'},\n",
       "  {'conf': 1.0, 'end': 19.05, 'start': 18.93, 'word': 'me'},\n",
       "  {'conf': 1.0, 'end': 19.32, 'start': 19.05, 'word': 'some'},\n",
       "  {'conf': 1.0, 'end': 19.98, 'start': 19.32, 'word': 'bugs'},\n",
       "  {'conf': 1.0, 'end': 20.1, 'start': 19.98, 'word': 'and'},\n",
       "  {'conf': 0.869718, 'end': 20.195458, 'start': 20.1, 'word': 'them'},\n",
       "  {'conf': 0.46428, 'end': 20.320994, 'start': 20.195458, 'word': 'when'},\n",
       "  {'conf': 0.341613, 'end': 20.488495, 'start': 20.320994, 'word': 'knock'},\n",
       "  {'conf': 0.410373, 'end': 20.64, 'start': 20.488495, 'word': 'got'},\n",
       "  {'conf': 1.0, 'end': 20.76, 'start': 20.64, 'word': 'to'},\n",
       "  {'conf': 1.0, 'end': 20.91, 'start': 20.76, 'word': 'be'},\n",
       "  {'conf': 1.0, 'end': 21.15, 'start': 20.91, 'word': 'like'},\n",
       "  {'conf': 0.626566, 'end': 21.24, 'start': 21.15, 'word': 'a'},\n",
       "  {'conf': 1.0, 'end': 21.54, 'start': 21.262407, 'word': 'bit'},\n",
       "  {'conf': 1.0, 'end': 21.84, 'start': 21.54, 'word': 'much'},\n",
       "  {'conf': 1.0, 'end': 21.93, 'start': 21.84, 'word': 'i'},\n",
       "  {'conf': 1.0, 'end': 22.14, 'start': 21.93, 'word': 'got'},\n",
       "  {'conf': 1.0, 'end': 22.29, 'start': 22.14, 'word': 'my'},\n",
       "  {'conf': 1.0, 'end': 23.16, 'start': 22.68, 'word': 'books'},\n",
       "  {'conf': 1.0, 'end': 23.523602, 'start': 23.25, 'word': 'and'},\n",
       "  {'conf': 0.846889, 'end': 23.7, 'start': 23.523602, 'word': 'taught'},\n",
       "  {'conf': 1.0, 'end': 24.15, 'start': 23.7, 'word': 'myself'},\n",
       "  {'conf': 1.0, 'end': 24.99, 'start': 24.57, 'word': 'yes'},\n",
       "  {'conf': 1.0, 'end': 25.35, 'start': 25.02, 'word': 'yes'},\n",
       "  {'conf': 1.0, 'end': 25.56, 'start': 25.38, 'word': 'me'},\n",
       "  {'conf': 0.892636, 'end': 25.83, 'start': 25.56, 'word': 'to'},\n",
       "  {'conf': 0.638371, 'end': 26.43, 'start': 25.83, 'word': 'sympathize'},\n",
       "  {'conf': 1.0, 'end': 26.61, 'start': 26.43, 'word': 'i'},\n",
       "  {'conf': 1.0, 'end': 26.97, 'start': 26.61, 'word': 'actually'},\n",
       "  {'conf': 1.0, 'end': 27.210824, 'start': 26.97, 'word': 'with'},\n",
       "  {'conf': 0.928237, 'end': 27.359372, 'start': 27.210824, 'word': 'it'},\n",
       "  {'conf': 1.0, 'end': 27.72, 'start': 27.359372, 'word': 'sneak'},\n",
       "  {'conf': 1.0, 'end': 27.9, 'start': 27.72, 'word': 'into'},\n",
       "  {'conf': 1.0, 'end': 28.02, 'start': 27.9, 'word': 'the'},\n",
       "  {'conf': 1.0, 'end': 28.23, 'start': 28.02, 'word': 'little'},\n",
       "  {'conf': 1.0, 'end': 28.56, 'start': 28.23, 'word': 'local'},\n",
       "  {'conf': 1.0, 'end': 29.28, 'start': 28.56, 'word': 'bookstore'},\n",
       "  {'conf': 1.0, 'end': 29.61, 'start': 29.28, 'word': 'and'},\n",
       "  {'conf': 1.0, 'end': 30.03, 'start': 29.61, 'word': 'find'},\n",
       "  {'conf': 1.0, 'end': 30.36, 'start': 30.09, 'word': 'our'},\n",
       "  {'conf': 1.0, 'end': 30.84, 'start': 30.36, 'word': 'bodies'},\n",
       "  {'conf': 1.0, 'end': 31.728929, 'start': 30.84, 'word': 'ourselves'},\n",
       "  {'conf': 0.29363, 'end': 32.07, 'start': 31.86, 'word': 'in'},\n",
       "  {'conf': 1.0, 'end': 32.31, 'start': 32.07, 'word': 'like'},\n",
       "  {'conf': 1.0, 'end': 32.46, 'start': 32.31, 'word': 'be'},\n",
       "  {'conf': 1.0, 'end': 32.82, 'start': 32.46, 'word': 'human'},\n",
       "  {'conf': 1.0, 'end': 33.45, 'start': 32.82, 'word': 'development'},\n",
       "  {'conf': 1.0, 'end': 34.05, 'start': 33.48, 'word': 'section'},\n",
       "  {'conf': 1.0, 'end': 34.32, 'start': 34.05, 'word': 'and'},\n",
       "  {'conf': 1.0, 'end': 35.13, 'start': 34.32, 'word': 'surreptitiously'},\n",
       "  {'conf': 1.0, 'end': 35.4, 'start': 35.13, 'word': 'read'},\n",
       "  {'conf': 1.0, 'end': 35.55, 'start': 35.4, 'word': 'it'},\n",
       "  {'conf': 1.0, 'end': 35.67, 'start': 35.55, 'word': 'in'},\n",
       "  {'conf': 1.0, 'end': 35.79, 'start': 35.67, 'word': 'one'},\n",
       "  {'conf': 1.0, 'end': 36.09, 'start': 35.79, 'word': 'corner'},\n",
       "  {'conf': 1.0, 'end': 36.18, 'start': 36.09, 'word': 'and'},\n",
       "  {'conf': 1.0, 'end': 36.36, 'start': 36.18, 'word': 'hope'},\n",
       "  {'conf': 1.0, 'end': 36.54, 'start': 36.36, 'word': 'that'},\n",
       "  {'conf': 1.0, 'end': 37.11, 'start': 36.54, 'word': 'nobody'},\n",
       "  {'conf': 1.0, 'end': 37.23, 'start': 37.11, 'word': 'i'},\n",
       "  {'conf': 1.0, 'end': 37.5, 'start': 37.23, 'word': 'knew'},\n",
       "  {'conf': 1.0, 'end': 37.86, 'start': 37.5, 'word': 'walked'},\n",
       "  {'conf': 1.0, 'end': 38.07, 'start': 37.86, 'word': 'in'},\n",
       "  {'conf': 1.0, 'end': 38.37, 'start': 38.07, 'word': 'and'},\n",
       "  {'conf': 0.530861, 'end': 38.669996, 'start': 38.37, 'word': 'ask'},\n",
       "  {'conf': 1.0, 'end': 38.82, 'start': 38.7, 'word': 'what'},\n",
       "  {'conf': 0.95261, 'end': 38.88, 'start': 38.82, 'word': 'i'},\n",
       "  {'conf': 0.95261, 'end': 39.03, 'start': 38.88, 'word': 'was'},\n",
       "  {'conf': 1.0, 'end': 39.48, 'start': 39.03, 'word': 'reading'},\n",
       "  {'conf': 1.0, 'end': 39.99, 'start': 39.63, 'word': 'little'},\n",
       "  {'conf': 0.595917, 'end': 40.56, 'start': 39.99, 'word': 'erin'},\n",
       "  {'conf': 1.0, 'end': 41.88, 'start': 41.55, 'word': 'little'},\n",
       "  {'conf': 1.0, 'end': 42.21, 'start': 41.88, 'word': 'little'},\n",
       "  {'conf': 1.0, 'end': 42.6, 'start': 42.24, 'word': 'awkward'},\n",
       "  {'conf': 1.0, 'end': 43.11, 'start': 42.6, 'word': 'questioning'},\n",
       "  {'conf': 0.419885, 'end': 43.47, 'start': 43.11, 'word': 'errant'},\n",
       "  {'conf': 1.0, 'end': 44.34, 'start': 44.04, 'word': 'and'},\n",
       "  {'conf': 1.0, 'end': 45.03, 'start': 44.73, 'word': 'what'},\n",
       "  {'conf': 1.0, 'end': 45.21, 'start': 45.06, 'word': 'is'},\n",
       "  {'conf': 1.0, 'end': 45.45, 'start': 45.21, 'word': 'maybe'},\n",
       "  {'conf': 1.0, 'end': 45.66, 'start': 45.45, 'word': 'not'},\n",
       "  {'conf': 1.0, 'end': 46.23, 'start': 45.66, 'word': 'surprising'},\n",
       "  {'conf': 1.0, 'end': 46.5, 'start': 46.23, 'word': 'about'},\n",
       "  {'conf': 1.0, 'end': 46.71, 'start': 46.5, 'word': 'this'},\n",
       "  {'conf': 1.0, 'end': 46.95, 'start': 46.71, 'word': 'given'},\n",
       "  {'conf': 1.0, 'end': 47.07, 'start': 46.95, 'word': 'we'},\n",
       "  {'conf': 1.0, 'end': 47.19, 'start': 47.07, 'word': 'had'},\n",
       "  {'conf': 1.0, 'end': 47.25, 'start': 47.19, 'word': 'to'},\n",
       "  {'conf': 1.0, 'end': 47.37, 'start': 47.25, 'word': 'do'},\n",
       "  {'conf': 1.0, 'end': 47.52, 'start': 47.37, 'word': 'our'},\n",
       "  {'conf': 1.0, 'end': 47.7, 'start': 47.52, 'word': 'own'},\n",
       "  {'conf': 1.0, 'end': 48.15, 'start': 47.7, 'word': 'research'},\n",
       "  {'conf': 1.0, 'end': 48.36, 'start': 48.18, 'word': 'is'},\n",
       "  {'conf': 1.0, 'end': 48.54, 'start': 48.36, 'word': 'that'},\n",
       "  {'conf': 1.0, 'end': 48.72, 'start': 48.54, 'word': 'there'},\n",
       "  {'conf': 1.0, 'end': 48.87, 'start': 48.72, 'word': 'is'},\n",
       "  {'conf': 1.0, 'end': 49.38, 'start': 48.87, 'word': 'actually'},\n",
       "  {'conf': 0.755046, 'end': 49.77, 'start': 49.38, 'word': 'no'},\n",
       "  {'conf': 1.0, 'end': 50.28, 'start': 49.77, 'word': 'national'},\n",
       "  {'conf': 1.0, 'end': 50.76, 'start': 50.28, 'word': 'mandate'},\n",
       "  {'conf': 1.0, 'end': 50.97, 'start': 50.79, 'word': 'for'},\n",
       "  {'conf': 1.0, 'end': 51.3, 'start': 50.97, 'word': 'sex'},\n",
       "  {'conf': 0.814476, 'end': 51.57, 'start': 51.3, 'word': 'ed'},\n",
       "  {'conf': 1.0, 'end': 51.84, 'start': 51.66, 'word': 'in'},\n",
       "  {'conf': 1.0, 'end': 51.9, 'start': 51.84, 'word': 'the'},\n",
       "  {'conf': 0.607529, 'end': 52.349996, 'start': 51.9, 'word': 'us'},\n",
       "  {'conf': 1.0, 'end': 53.25, 'start': 52.56, 'word': 'really'},\n",
       "  {'conf': 0.685961, 'end': 53.64, 'start': 53.37, 'word': 'that'},\n",
       "  {'conf': 1.0, 'end': 54.66, 'start': 54.27, 'word': 'kind'},\n",
       "  {'conf': 1.0, 'end': 54.75, 'start': 54.66, 'word': 'of'},\n",
       "  {'conf': 1.0, 'end': 55.44, 'start': 54.75, 'word': 'surprises'},\n",
       "  {'conf': 1.0, 'end': 55.65, 'start': 55.44, 'word': 'me'},\n",
       "  {'conf': 1.0, 'end': 55.89, 'start': 55.65, 'word': 'like'},\n",
       "  {'conf': 1.0, 'end': 56.37, 'start': 55.89, 'word': 'none'},\n",
       "  {'conf': 1.0, 'end': 56.88, 'start': 56.61, 'word': 'yeah'},\n",
       "  {'conf': 1.0, 'end': 57.15, 'start': 56.91, 'word': 'and'},\n",
       "  {'conf': 1.0, 'end': 57.48, 'start': 57.21, 'word': 'not'},\n",
       "  {'conf': 1.0, 'end': 57.75, 'start': 57.48, 'word': 'only'},\n",
       "  {'conf': 1.0, 'end': 58.14, 'start': 57.75, 'word': 'that'},\n",
       "  {'conf': 1.0, 'end': 58.59, 'start': 58.23, 'word': 'but'},\n",
       "  {'conf': 1.0, 'end': 59.16, 'start': 58.71, 'word': 'most'},\n",
       "  {'conf': 1.0, 'end': 59.483793, 'start': 59.16, 'word': 'sex'},\n",
       "  {'conf': 0.592834, 'end': 59.64, 'start': 59.49, 'word': 'ed'},\n",
       "  {'conf': 0.645498, 'end': 59.76, 'start': 59.64, 'word': 'the'},\n",
       "  {'conf': 1.0, 'end': 60.15, 'start': 59.791904, 'word': 'does'},\n",
       "  {'conf': 1.0, 'end': 60.48, 'start': 60.15, 'word': 'exist'}],\n",
       " 'text': \"from npr emily pay separate so few and i'll remember getting caught sex ed in high school kind of adult to be honest i did a lot of my own research like my mom got me some bugs and them when knock got to be like a bit much i got my books and taught myself yes yes me to sympathize i actually with it sneak into the little local bookstore and find our bodies ourselves in like be human development section and surreptitiously read it in one corner and hope that nobody i knew walked in and ask what i was reading little erin little little awkward questioning errant and what is maybe not surprising about this given we had to do our own research is that there is actually no national mandate for sex ed in the us really that kind of surprises me like none yeah and not only that but most sex ed the does exist\"}"
      ]
     },
     "execution_count": 29,
     "metadata": {},
     "output_type": "execute_result"
    }
   ],
   "source": [
    "json.loads(result)"
   ]
  },
  {
   "cell_type": "markdown",
   "metadata": {
    "id": "PCciHAgZWaHZ"
   },
   "source": [
    "# Step 2: Adding punctuations back in the text with recasepunc\n",
    "\n",
    "`By default, vosk will output text with no punctuation. To add in punctuation, we'll need a different model. `\n",
    "\n",
    "`Download the punctuation model from vosk.\n",
    "Extract the zip file into the same directory as your code.`"
   ]
  },
  {
   "cell_type": "code",
   "execution_count": 10,
   "metadata": {
    "colab": {
     "base_uri": "https://localhost:8080/"
    },
    "id": "sESPM9KpXIWG",
    "outputId": "9fa78493-78c6-4b4f-b33a-8667ce52e42d"
   },
   "outputs": [
    {
     "name": "stdout",
     "output_type": "stream",
     "text": [
      "Requirement already satisfied: transformers in /Users/moonqj/miniforge3/envs/m1/lib/python3.8/site-packages (4.19.2)\n",
      "Requirement already satisfied: tokenizers!=0.11.3,<0.13,>=0.11.1 in /Users/moonqj/miniforge3/envs/m1/lib/python3.8/site-packages (from transformers) (0.12.1)\n",
      "Requirement already satisfied: regex!=2019.12.17 in /Users/moonqj/miniforge3/envs/m1/lib/python3.8/site-packages (from transformers) (2022.6.2)\n",
      "Requirement already satisfied: packaging>=20.0 in /Users/moonqj/miniforge3/envs/m1/lib/python3.8/site-packages (from transformers) (21.3)\n",
      "Requirement already satisfied: tqdm>=4.27 in /Users/moonqj/miniforge3/envs/m1/lib/python3.8/site-packages (from transformers) (4.63.0)\n",
      "Requirement already satisfied: numpy>=1.17 in /Users/moonqj/miniforge3/envs/m1/lib/python3.8/site-packages (from transformers) (1.22.3)\n",
      "Requirement already satisfied: huggingface-hub<1.0,>=0.1.0 in /Users/moonqj/miniforge3/envs/m1/lib/python3.8/site-packages (from transformers) (0.7.0)\n",
      "Requirement already satisfied: filelock in /Users/moonqj/miniforge3/envs/m1/lib/python3.8/site-packages (from transformers) (3.7.1)\n",
      "Requirement already satisfied: pyyaml>=5.1 in /Users/moonqj/miniforge3/envs/m1/lib/python3.8/site-packages (from transformers) (6.0)\n",
      "Requirement already satisfied: requests in /Users/moonqj/miniforge3/envs/m1/lib/python3.8/site-packages (from transformers) (2.27.1)\n",
      "Requirement already satisfied: typing-extensions>=3.7.4.3 in /Users/moonqj/miniforge3/envs/m1/lib/python3.8/site-packages (from huggingface-hub<1.0,>=0.1.0->transformers) (4.0.1)\n",
      "Requirement already satisfied: pyparsing!=3.0.5,>=2.0.2 in /Users/moonqj/miniforge3/envs/m1/lib/python3.8/site-packages (from packaging>=20.0->transformers) (3.0.7)\n",
      "Requirement already satisfied: idna<4,>=2.5 in /Users/moonqj/miniforge3/envs/m1/lib/python3.8/site-packages (from requests->transformers) (3.3)\n",
      "Requirement already satisfied: certifi>=2017.4.17 in /Users/moonqj/miniforge3/envs/m1/lib/python3.8/site-packages (from requests->transformers) (2022.5.18.1)\n",
      "Requirement already satisfied: urllib3<1.27,>=1.21.1 in /Users/moonqj/miniforge3/envs/m1/lib/python3.8/site-packages (from requests->transformers) (1.26.9)\n",
      "Requirement already satisfied: charset-normalizer~=2.0.0 in /Users/moonqj/miniforge3/envs/m1/lib/python3.8/site-packages (from requests->transformers) (2.0.12)\n",
      "Looking in links: https://download.pytorch.org/whl/torch_stable.html\n",
      "Requirement already satisfied: torch in /Users/moonqj/miniforge3/envs/m1/lib/python3.8/site-packages (1.11.0)\n",
      "Requirement already satisfied: typing-extensions in /Users/moonqj/miniforge3/envs/m1/lib/python3.8/site-packages (from torch) (4.0.1)\n"
     ]
    }
   ],
   "source": [
    "!pip install transformers\n",
    "!pip install torch -f https://download.pytorch.org/whl/torch_stable.html"
   ]
  },
  {
   "cell_type": "code",
   "execution_count": 14,
   "metadata": {
    "colab": {
     "base_uri": "https://localhost:8080/"
    },
    "id": "TE1ojT7piH63",
    "outputId": "0aa5c9b3-d23b-4738-b231-759d3b7b13a0"
   },
   "outputs": [
    {
     "name": "stdout",
     "output_type": "stream",
     "text": [
      "Archive:  /Users/moonqj/Desktop/Voice_Recognition/vosk-recasepunc-en-0.22.zip\n",
      "replace /Users/moonqj/Desktop/Voice_Recognition/vosk-recasepunc-en-0.22/recasepunc.py? [y]es, [n]o, [A]ll, [N]one, [r]ename: ^C\n"
     ]
    }
   ],
   "source": [
    "!unzip /Users/moonqj/Desktop/Voice_Recognition/vosk-recasepunc-en-0.22.zip -d /Users/moonqj/Desktop/Voice_Recognition/"
   ]
  },
  {
   "cell_type": "code",
   "execution_count": 11,
   "metadata": {},
   "outputs": [
    {
     "name": "stdout",
     "output_type": "stream",
     "text": [
      "Requirement already satisfied: regex in /Users/moonqj/miniforge3/envs/m1/lib/python3.8/site-packages (2022.6.2)\n"
     ]
    }
   ],
   "source": [
    "!pip install regex"
   ]
  },
  {
   "cell_type": "code",
   "execution_count": 12,
   "metadata": {
    "id": "n6hs_I2UUfyD"
   },
   "outputs": [
    {
     "name": "stderr",
     "output_type": "stream",
     "text": [
      "WARNING: reverting to cpu as cuda is not available\n",
      "Some weights of the model checkpoint at bert-base-uncased were not used when initializing BertModel: ['cls.predictions.transform.dense.bias', 'cls.predictions.transform.dense.weight', 'cls.predictions.bias', 'cls.predictions.decoder.weight', 'cls.seq_relationship.weight', 'cls.predictions.transform.LayerNorm.weight', 'cls.predictions.transform.LayerNorm.bias', 'cls.seq_relationship.bias']\n",
      "- This IS expected if you are initializing BertModel from the checkpoint of a model trained on another task or with another architecture (e.g. initializing a BertForSequenceClassification model from a BertForPreTraining model).\n",
      "- This IS NOT expected if you are initializing BertModel from the checkpoint of a model that you expect to be exactly identical (initializing a BertForSequenceClassification model from a BertForSequenceClassification model).\n"
     ]
    }
   ],
   "source": [
    "import regex as re\n",
    "import subprocess # use python to run a terminal commmand\n",
    "\n",
    "# checkpoint is the pretrained model for punctuation\n",
    "cased = subprocess.check_output('python vosk-recasepunc-en-0.22/recasepunc.py predict vosk-recasepunc-en-0.22/checkpoint', shell=True, text=True, input=text)"
   ]
  },
  {
   "cell_type": "code",
   "execution_count": 13,
   "metadata": {
    "colab": {
     "base_uri": "https://localhost:8080/",
     "height": 143
    },
    "id": "NT8aCDfuXqSR",
    "outputId": "ef08e418-bc61-4f74-c68d-970e12c1c77f"
   },
   "outputs": [
    {
     "data": {
      "text/plain": [
       "\"From NPR, Emily pay separate so few, and I ' ll remember getting caught sex ed in high school kind of adult to be honest. I did a lot of my own research, like my mom got me some bugs and them when knock got to be like a bit much. I got my books and taught myself, yes, yes, me, to sympathize I actually with it. Sneak into the little local bookstore and find our bodies ourselves in like be Human Development section and surreptitiously read it in one corner and hope that nobody I knew walked in and ask what I was reading. Little Erin, little little awkward, questioning, errant And what is maybe not surprising about this, given we had to do our own research, is that there is actually no national mandate for sex ed in the US. Really ? That kind of surprises me Like none. Yeah, and not only that, but most sex ed the does exist.\\n\""
      ]
     },
     "execution_count": 13,
     "metadata": {},
     "output_type": "execute_result"
    }
   ],
   "source": [
    "cased"
   ]
  },
  {
   "cell_type": "markdown",
   "metadata": {
    "id": "ZtZ4xPIXZjSM"
   },
   "source": [
    "# Step 1+2 : Define a voice_recognition function (long audio file)"
   ]
  },
  {
   "cell_type": "code",
   "execution_count": 14,
   "metadata": {
    "id": "pIXTG7j5XrP_"
   },
   "outputs": [],
   "source": [
    "def voice_recognition(filename, language):\n",
    "    # English\n",
    "    if language == \"English\":\n",
    "        model = Model(model_name=\"vosk-model-small-en-us-0.15\")\n",
    "        \n",
    "    # Chinese\n",
    "    if language == \"Chinese\":\n",
    "        model = Model(model_name=\"vosk-model-small-cn-0.22\")\n",
    "    \n",
    "    rec = KaldiRecognizer(model, FRAME_RATE)\n",
    "    rec.SetWords(True)\n",
    "    \n",
    "    mp3 = AudioSegment.from_mp3(filename)\n",
    "    mp3 = mp3.set_channels(1)\n",
    "    mp3 = mp3.set_frame_rate(FRAME_RATE)\n",
    "    \n",
    "    # batch long audtio file into pieces and stick them back  \n",
    "    step = 45000\n",
    "    transcript = \"\"\n",
    "    for i in range(0, len(mp3), step):\n",
    "      print(f\"Progress: {i/len(mp3)}\")\n",
    "      segment = mp3[i : i+step]\n",
    "\n",
    "      rec.AcceptWaveform(segment.raw_data)\n",
    "      result = rec.Result()\n",
    "\n",
    "      text = json.loads(result)[\"text\"]\n",
    "      transcript += text\n",
    "    \n",
    "    if language == \"English\":\n",
    "        cased = subprocess.check_output('python vosk-recasepunc-en-0.22/recasepunc.py predict vosk-recasepunc-en-0.22/checkpoint', shell=True, text=True, input=transcript)\n",
    "    if language == \"Chinese\":\n",
    "        cased = subprocess.check_output('python vosk-recasepunc-en-0.22/recasepunc.py predict vosk-recasepunc-en-0.22/zh.24000', shell=True, text=True, input=transcript)\n",
    "    return cased"
   ]
  },
  {
   "cell_type": "code",
   "execution_count": 15,
   "metadata": {},
   "outputs": [
    {
     "name": "stderr",
     "output_type": "stream",
     "text": [
      "LOG (VoskAPI:ReadDataFiles():model.cc:213) Decoding params beam=12 max-active=5000 lattice-beam=4\n",
      "LOG (VoskAPI:ReadDataFiles():model.cc:216) Silence phones 1:2:3:4:5:6:7:8:9:10\n",
      "LOG (VoskAPI:RemoveOrphanNodes():nnet-nnet.cc:948) Removed 0 orphan nodes.\n",
      "LOG (VoskAPI:RemoveOrphanComponents():nnet-nnet.cc:847) Removing 0 orphan components.\n",
      "LOG (VoskAPI:ReadDataFiles():model.cc:248) Loading i-vector extractor from /Users/moonqj/.cache/vosk/vosk-model-small-cn-0.22/ivector/final.ie\n",
      "LOG (VoskAPI:ComputeDerivedVars():ivector-extractor.cc:183) Computing derived variables for iVector extractor\n",
      "LOG (VoskAPI:ComputeDerivedVars():ivector-extractor.cc:204) Done.\n",
      "LOG (VoskAPI:ReadDataFiles():model.cc:282) Loading HCL and G from /Users/moonqj/.cache/vosk/vosk-model-small-cn-0.22/graph/HCLr.fst /Users/moonqj/.cache/vosk/vosk-model-small-cn-0.22/graph/Gr.fst\n",
      "LOG (VoskAPI:ReadDataFiles():model.cc:303) Loading winfo /Users/moonqj/.cache/vosk/vosk-model-small-cn-0.22/graph/phones/word_boundary.int\n"
     ]
    },
    {
     "name": "stdout",
     "output_type": "stream",
     "text": [
      "Progress: 0.0\n",
      "Progress: 0.02578068201934926\n",
      "Progress: 0.05156136403869852\n",
      "Progress: 0.07734204605804779\n",
      "Progress: 0.10312272807739704\n",
      "Progress: 0.1289034100967463\n",
      "Progress: 0.15468409211609557\n",
      "Progress: 0.18046477413544482\n",
      "Progress: 0.2062454561547941\n",
      "Progress: 0.23202613817414336\n",
      "Progress: 0.2578068201934926\n",
      "Progress: 0.28358750221284185\n",
      "Progress: 0.30936818423219115\n",
      "Progress: 0.3351488662515404\n",
      "Progress: 0.36092954827088963\n",
      "Progress: 0.38671023029023893\n",
      "Progress: 0.4124909123095882\n",
      "Progress: 0.4382715943289374\n",
      "Progress: 0.4640522763482867\n",
      "Progress: 0.48983295836763596\n",
      "Progress: 0.5156136403869852\n",
      "Progress: 0.5413943224063344\n",
      "Progress: 0.5671750044256837\n",
      "Progress: 0.592955686445033\n",
      "Progress: 0.6187363684643823\n",
      "Progress: 0.6445170504837315\n",
      "Progress: 0.6702977325030808\n",
      "Progress: 0.69607841452243\n",
      "Progress: 0.7218590965417793\n",
      "Progress: 0.7476397785611286\n",
      "Progress: 0.7734204605804779\n",
      "Progress: 0.7992011425998271\n",
      "Progress: 0.8249818246191764\n",
      "Progress: 0.8507625066385256\n",
      "Progress: 0.8765431886578748\n",
      "Progress: 0.9023238706772242\n",
      "Progress: 0.9281045526965734\n",
      "Progress: 0.9538852347159227\n",
      "Progress: 0.9796659167352719\n"
     ]
    },
    {
     "name": "stderr",
     "output_type": "stream",
     "text": [
      "WARNING: reverting to cpu as cuda is not available\n",
      "Some weights of the model checkpoint at ckiplab/bert-base-chinese were not used when initializing BertModel: ['cls.predictions.decoder.weight', 'cls.predictions.bias', 'cls.predictions.transform.LayerNorm.weight', 'cls.predictions.transform.dense.weight', 'cls.predictions.transform.LayerNorm.bias', 'cls.predictions.transform.dense.bias', 'cls.predictions.decoder.bias']\n",
      "- This IS expected if you are initializing BertModel from the checkpoint of a model trained on another task or with another architecture (e.g. initializing a BertForSequenceClassification model from a BertForPreTraining model).\n",
      "- This IS NOT expected if you are initializing BertModel from the checkpoint of a model that you expect to be exactly identical (initializing a BertForSequenceClassification model from a BertForSequenceClassification model).\n",
      "Some weights of BertModel were not initialized from the model checkpoint at ckiplab/bert-base-chinese and are newly initialized: ['bert.pooler.dense.bias', 'bert.pooler.dense.weight']\n",
      "You should probably TRAIN this model on a down-stream task to be able to use it for predictions and inference.\n"
     ]
    }
   ],
   "source": [
    "transcript_chn = voice_recognition(\"wuxiaobo.mp3\", 'Chinese')"
   ]
  },
  {
   "cell_type": "code",
   "execution_count": 16,
   "metadata": {},
   "outputs": [
    {
     "data": {
      "text/plain": [
       "'今 天 去 北 京 六 环 之 外 的 一 方 放 刘 强 东, 那 你 的 风 很 大, 前 几 天 刚 刚 去 了 一 次 大 的 老 家, 江 苏 宿 迁, 最 早 下 楼, 长 达 十 年 玩 乐 力 长 的 是 我 给 他 看 拍 个 照 片, 最 大 的 他 应 该 好 友 不 用 没 有 看 坎 坷 想 的 不 断 加 强. 刘 强 东 是 小 镇 青 年 创 业 的 典 范, 在 他 的 身 上 真 人 秀 的 把 那 股 逆 袭 的 浓 浓 气 味. 刚 刚 过 去 的 十 年, 在 他 的 身 上 到 底 发 生 了 什 么 ? 十 年 京 东 的 营 业 额 增 加 了 的 前 辈, 十 年 京 东 的 员 工 人 数 激 增 到 了 十 六 万 人. 十 年, 他 谈 了 一 场 众 人 皆 知 的 恋 爱, 还 当 上 了 父 亲, 把 人 引 向 未 来 的 不 是 上 帝, 而 是 他 本 人 的 做. 刘 强 东 是 怎 么 看 她 刚 刚 度 过 的 十 年, 他 的 骄 傲 和 恐 惧 是 什 么 ? 还 有 什 么 遗 憾 ? 还 有 我 得 问 问 他, 他 是 一 个 保 守 的 人, 还 是 激 进 的 哥 哥, 妹 妹 信 心 了, 非 得 叫 他 从 这 讲 起 来, 京 东 越 多 越 好, 大 新 婚 快 乐 小 工 艺 没 之 后 东 哥 抱 得 美 人 归, 我 就 不 了 你 了, 哈 哈, 你 的 系 统 啊, 谢 谢 我 就 看 完 了, 给 您 带 着, 看 完 了 得 着 老 子 的 节 目 也 是 也 是 这 个 梳 理 开 始 的 啊, 十 年 吗 我 我 下 旋 写 人 聊 的 四 年 变 化 等 会 说 呢 的 数 为 尽 量 图 的 就 拿 过 得 好 的 谢 谢 啊, 我 们 说 这 个 很 赞 啊, 都 是 你 结 婚 的 时 候 在 的, 东 哥 小 天 是 早 生 贵 子 的, 是 这 段 时 间 里 加 大 的 山 上 得 我 的 呀 个 人 那 可 能 是 了 的 奶 猫, 成 家 立 业 成 家 怎 么 的 前 面 你 评 价 送 往 吗 对 小 孩 谁 吗 ? 就 是 更 显 得 特 别 重 要, 为 你 读 大 学 读 的 是 社 会 戏 码 对 你 做 的 社 会 学 习 的 的 学 生 啊, 你 后 来 从 商 业 九 八 年 的 短 视 频 骂 你 你 你 肠 道 做 生 意 发 放 几 百 万 的 所 以 啥 样 了 好 几 个 会 计 啊 的 就 就 把 把 精 力 最 后 面 和 的 把 时 间 最 后 投 入 到 商 业 的, 也 是 挺 事 情 的 动 机, 九 八 年 创 业 的 时 候 很 简 单, 那 就 是 家 庭 的 动 力 开 展, 外 婆 生 病 吗 的 也 没 钱 治 病, 没 钱 买 药 就 油 门 没 能 卖 的 了 你 的 卖 掉 啊 啊 的 就 贾 玲 的 穷 的 里 头 还 是 家 族 得 很 远, 就 是 想 赶 紧 转 钱 给 他 们 牙 齿 啊, 那 他 们 好 的 咱 们 以 后 呢 命 名 的 考 场 上 那 首 第 一 个 就 是 前 把 中 外 婆 有 钱 买 药 治 病 得 起 来 没 有 挽 回, 大 了 就 从 上 大 学 时 候 一 开 始 就 新 锐 想 见 监 理 公 司 这 个 想 法 的 有 了 带 账 号, 有 能 容 器 本 来 我 是 准 备 了 在 且 红 的 个 五 年, 有 了 足 够 的 人 管 理 经 验 了, 积 累 了 长 能 积 攒 了 和 拴 娃 娃, 哪 个 有 点 资 金 来 出 来 好 了 只 干 了 两 年 了 着 然 后 我 俩 匆 忙 跑 出 了, 就 是 因 为 实 在 等 级 的 几 天 没 来 之 前 这 么 看 来, 要 说 从 规 模 角 度 来 讲, 是 是 还 是 的, 前 辈 的, 你 八 十 年 如 果 怎 么 了, 慢 慢 来, 现 在 的 一 般 的 我 估 计 可 能 零 八 年 也 就 是 容 易 被 十 几 个 一 把 这 的 当 我 现 在 就 行 了. 是 的, 今 天 中 国 经 济 的 上 前 帮 忙 都 是 妈 妈 你 前 没 有 想 到 将 凤 凰 还 有 的 就 是 发 现 受 不 了 到 今 天 也 没 有 一 家 的 我 以 前 去 跟 他 们 讲 过 课, 讲 课 的 是 刘 强 东 的 开 场 的 啊, 还 有 一 次 是 我 跟 他 一 起 上 的 的 牙 刷 头, 你 和 他 做 电 商 吗 ? 总 的 是 个 满 沉 稳 过 去 十 二 点 我 的 说 就 是 的 吧, 我 唯 有 敢 但 是 今 天 我 要 告 诉 你 们, 我 们 过 去 取 得 的 所 有 的 成 绩, 所 有 的 成 功, 我 们 都 到 了 该 归 零 的 时 候 了, 我 想 告 诉 大 家, 时 代 正 在 发 生 剧 烈 的 变 化, 未 来 十 年 十 年 的 科 技 的 进 步, 一 定 位 超 过 过 去 一 百 年 所 有 的 技 术 的 更 加 的 剧 烈 构 架 的 会 死 的 手 机 几 间 社 区 侠 气 京 东 做 得 很 冒 险, 那 个 时 候 的 食 物 的 冒 险 是 建 立 的 强 的 妈 说 其 实 也 很 简 单, 我 就 平 时 我 们 这 大 家 都 侃 侃 而 谈, 应 物 体 安 逸 五 天, 以 客 户 为 中 心 一 个 为 中 心, 是 吧, 顾 客, 违 建, 各 种 告 辞, 万 达 要 说, 都 以 六 六 耽 误 您 是 你 在 做 切 决 策 的 时 候 有 人 他 又 开 始 往 里 得 近, 这 俩 不 完 扩 品 类, 而 建 物 流 是 逻 辑 很 简 单, 你 这 俩 那 都 是 用 户 不 需 要 的 在 那 里 和 大 家 说 买 书, 将 来 和 那 药 费 几 个 电 商 并 存, 王 婆 子 也 会 说, 买 书 就 是 妈 妈, 是 吧, 买 电 脑 是 了, 你 怎 么 玩 的 时 候 的 哈 哈 跟 不 跟 不 清 打 怪 讲 得 然 后 买 埋 伏 着 女 儿 淘 宝 天 猫 了 他 为 久 的 将 来 就 电 商 分 好 几 个 点 上 每 个 人 都 的 一 个 行 李 非 常 强, 但 你 当 你 说 句 实 话, 你 忘 了 一 点 优 惠 怎 么 看 你 会 的 用 户 单 位 要 去 四 五 个 平 台 注 册 四 五 个 账 号, 麻 将 都 要 记 不 清 奶 瓶 平 台, 难 道 我 要 去 这 个 平 台 你 了 可 能 吗 ? 就 肯 定 不 用 我 最 喜 欢 用, 最 喜 欢 的 一 定 是 在 一 站 式 齐 等 这 个 就 供 给 上 的 很 重 的, 这 一 定 是 耽 误, 问 题 是 就 说 如 果 人 随 重 视 您 说 的 事 情 是 如 果 那 是 你 不 做, 那 么 你 共 赢 的 价 值 在 哪 ? 知 我 们 一 直 一 次 思 考, 终 究 如 果 个 坑 的 话, 是 那 些 帮 助 的 就 还 你 的 执 行 能 力 吧, 战 略 可 能 被 错, 路 径 也 被 所 问 题 就 是 走 路 过 程 中 是 把 了 走 走 走 走, 开 始 眼 睛 不 看 着 地 面 吧, 啊, 绊 倒 了 的 沟 里 去 了 一 场 你 觉 得 你 是 一 个 偏 保 守 的 人, 便 基 金 我 是 你 偏 保 守 让 你 还 品 牌 所 在 非 常 保 守 而 可 以 和 你 穿 你 做 的 决 定, 这 个 觉 得 你 看 你 看, 在 那 个 年 代 我 有 很 多 选 择, 不 要 你 当 成 而 这 我 可 到 头 来 啊 那 那 肯 定 不 是 吓 唬 人, 需 要 那 个 人, 我 更 没 有 价 值, 这 点 我 当 时 帮 你 我 共 无 法 那 保 跟 开 水 我 说 得 很 清 楚, 如 果 就 能 公 司 只 是 一 个 那 时 候 最 大 制 作 爱 情 不 是 三 岁 落 脚 点 的 如 果 只 是 哎 一 个 新 的 呢, 我 新 的 这 么 着 早 晚 要 死 了 肥 温 水 煮 青 蛙 一 日 一 日 小 说 下 去 在 后 边 变 化 我 觉 得 如 果 四 年 前 不 想 当 他 看 到 以 上 他 看 到 他 就 会 单 独 的 分 析 得 电 商 平 台 小 心 点 上 要 和 产 品 他 但 自 己 的 如 果 你 要 做 您 的 全 品 类 的 的 话 的 需 要 有 非 常 强 大 的 闭 环 的 一 个 物 流 的 一 个 支 持 第 三 的 如 果 你 需 要 闭 环 逻 辑 的 发 展 的 需 要 版 权 现 金 方 式 进 行 非 常 庞 大 的 流 畅 在 三 句 话 的 背 后 的 出 来 的 第 二 呢 都 需 要 消 耗 大 量 的 绝 大 部 分 人 没 有 看 到 第 二 呢 是 几 点 看 到 的 念 没 有 没 有 一 个 都 不 敢 去 实 践 的 虽 惊 动 能 够 走 到 今 天 我 全 都 个 十 年 前 那 的 冒 险 和 决 定 重 大 的 了 那 个 性 不 你 有 的 以 免 语 境 里 面 你 陪 总 说 我 认 我 的 爬 虫 的 就 是 网 络 一 个 有 的 烧 钱 了 委 员 会 的 做 第 二 第 三 就 是 的 无 法 的 那 种 的 把 手 扫 和 很 厉 害 大 人 的 指 令 在 告 诉 你 的 可 以 那 么 烧 跟 补 贴 上 海 不 一 样 的 补 贴 你 商 量 就 没 了, 钱 就 没 了, 是 吧, 哦 我 说 的 稍 事 把 现 金 开 始 变 成 一 个 资 产 的 得 你 是 放 的 和 多 仓 库 为 啊 那 而 且 钱 还 在 那 只 是 不 是 先 定 义 得 随 着 烧 钱 的 本 质 上 并 一 个 刷 就 选 到 了 其 实 用 户 的 梦 好, 你 明 天 不 补 贴 的 他 还 不 回 来, 吃 不 了 妹 纸 百 货 店 藻 类 的 冰 沙 的 工 作 的 人 也 行 三 天 的 超 你 但 我 们 不 是 我 们, 如 果 经 络 杀 个 失 眠 了 打 了 物 流 的 其 他 任 务 多 的 小 时 你 这 里 及 不 如 海 域 在 京 东 今 天 涨 的 格 局 和 局 面, 如 果 回 到 在 的 零 八 年 的 当 时 是 有 一 个 有 个 设 计 吗 还 是 白 白 葬 送 的 当 时 我 觉 得 我 们 路 径 看 得 很 清 晰, 对 我 们 商 业 模 式 都 想 得 很 清 晰, 怎 么 赚 钱, 怎 么 盈 利 之 外 怎 么 获 取 客 户, 这 点 我 值 班, 今 天 我 们 达 到 是 状 态 总 变 成 而 来 讲 那 时 候 的 我 没 有 想 到 说 的 做 了 借 助 啊 没 有 想 到 了 把 不 独 立 啊 这 样 的 也 没 有 想 你 做 今 天 的 人 庞 大 的 技 术 图 老 师 都 没 想 那 么 多 人 那 您 的 粥 点 上 嘴 就 电 视 给 了 零 八 年 的 上 琐 事 而 说 的, 你 却 跟 纪 念 日 没 有, 却 没 有 就 我 们 是 线 索 说 的 状 态, 我 们 的 零 七 年 决 定 自 建 物 流 的 时 候, 一 路 是 被 无 数 人 持 仓 走 过 来 的, 但 今 天 其 实 一 张 毫 无 疑 问 的 以 的 证 明, 当 年 我 们 战 略 是 政 策, 在 未 来 的 十 年, 所 谓 的 有 伤 都 必 将 愈 来 愈 像 我 们 今 天 的 京 东 女 子, 其 做 得 很 好 是 你 可 能 可 能 会 两 种, 两 种 性 格 的 变 化, 一 种 的 与 出 于 好 奇 的 好 玩, 我 探 讨 越 来 越 大, 洪 州 越 来 越 多, 第 二 种 的 一 部 分 胆 小, 这 些 一 分 有 文 件 一 个 总 结 得 非 常 到 位 的 是 你 觉 得 会 怎 么 样 才 能 我 们 过 去 与 二 娘 埃 及 产 业 这 十 年 会 进 入 互 联 网 行 业 什 么 从 了 还 来 看, 确 实 讲 所 说 的 很 多, 而 且 且 就 是 一 撮 大 了 一 点 儿 稍 微 大 的, 可 是 害 怕 看 满 眼 看 到 的 风 险 是 怕 这 个, 怕 那 个 年 纪 大 了 的 让 企 业 逐 步 替 代 的 演 得 得 得 得 对 对 对 也 有 的 回 的 可 能 与 做 的 与 水 域 剩 下 的 觉 得 我 们 应 该 说 后 者 女 儿, 现 在 我 们 坐 在 好 的 整 个 的 中 国 我 们 都 还 没 有 成 为 这 个 给 后 人 还 的 什 么 绝 对 的 的 的 为 还 要 去 东 南 亚 孩 子 欧 洲 还 是 美 国 你 想 中 中 版 图 的 足 够 的 做 一 遍 你 觉 得 京 东 的 这 种 这 个 事 情 几 年 的 中 国 地 区 的 电 商 啊 和 的 互 联 网 金 融 就 病 态 高 可 进 入 成 功 的 的 经 验 觉 得 在 全 球 夫 妇 的 可 能 性 有 吗 不 他 的 你 去 取 市 场 有 的 发 达 国 家 还 是 发 展 中 国 家 周 边 的 我 觉 得 能 够 为 拷 贝 的 就 您 的 以 真 正 的 应 用 题 为 中 心, 我 们 去 国 外 的 亚 马 逊 将 最 后 也 是 比 拼 的 谁 能 够 用 甜 做 得 更 好 的 哎 呀, 你 完 全 商 业 模 式 复 制 肯 定 是 不 行, 哎 呀, 马 修 斯, 中 国 做 不 起 来 干 的 去 年 附 近 的 的 不 到 得 这 个 我 就 最 核 心 当 年 我 们 的 把 的 时 候, 我 们 感 觉 他 最 核 心 就 的 周 末 那 没 有 见 我 说 姐, 你 看 那 个 总 经 理 一 直 外 国 人 而 从 外 面 的 中 国 过 剩 了 我 的 外 观 哈 哈 哈 哈 哈 怎 么 把 爱 而 喊 叫 声 的 请 问 打 仗 了 说 话 很 连 长 说 了 总 是 让 我 们 的 亚 哈 知 道 了 的 什 么 打 枪 来 做 不 在 打 压 还 得 不 国 足 的 二 十 万 能 打 仗 一 版 什 么 死 亡 得 中 国 市 场 变 化 会 对 前 线 没 有 个 猛 兽 钱 的 话 对 此 事 问 题 的 昨 天 我 们 跟 一 帮 朋 友 聊 天, 还 了 的 人 还 很 多 公 司 的 都 老 板 就 说 决 定 一 切 着 的 一 切, 但 我 决 定 人 是 文 化, 是 公 司 的 战 略, 这 的 从 来 不 敢 真 的 距 离 业 务 肌 肉 烦 我 觉 得 很 少 的 很 多 人 都 以 为 呢 ? 老 刘 很 强 势, 在 的 找 我 点 儿 高 管 别 人 的 一 烦 恼 找 到 我 和 大 小 找 到 你 搞 定 我 跟 她 说 其 实 没 有 刷 的 [ unk ] 找 我 真 拉 谁 啊 哈 哈 而 很 多 人 不 相 信 他, 那 不 可 能 给 我 写 腾 讯 在 的 时 候 只 有 一 个 得 不 帅 朋 友 的 的 一 二 年 一 三 年 腾 讯 的 手 还 你 的 态 度, 班 会 慧 敏 就 开 始 研 究 腾 讯 的 核 心 能 力, 我 竖 着 写 得 很, 就 十 五 个 人 的 的 棒 子 头 和 你 说 明 那 些 两 个 团 游 是 到 达 集 中 马 腾 腾 讨 论 的, 还 其 中 的 腾 讯 的 核 心 应 该 是 在 三 你 就 投 资 你 们 之 前 面 定 下 来 一 个 将 流 量 比 较 的 资 本, 短 期 的 后 来 后 来 的 流 量 获 取, 大 哥 没 流 量 成 为 腾 讯 去 找 那 个 工 作, 无 论 哪 个 平 台 呀 你 他 原 来 总 从 控 股 行 投 资 变 成 说 在 行 啊 太 不 平 等 的 基 本 那 是 那 种 班 会 所 带 来 的 结 果 很 多, 如 我 们 回 来 回 来 说 京 东 京 东 的 核 心 能 力, 如 果 用 一 个 两 个 字 的 请 您, 我 他 本 人 一 个 呢, 就 是 文 法 还 执 行 能 力 的 文 化 的 对, 只 有 那 也 是 文 化 的 一 种 吧, 给 政 府 的 这 种 和 还 吧, 文 化 有 变 化 和 吗, 均 以 客 户 为 中 心, 都 他 的 跨 度 的 话, 他 也 是 非 常 宽 泛 的 聚 划 算 每 个 企 业 都 会 送 唯 恐 会 东 西, 但 是 呢, 最 可 怕 的 很 多 公 司 的 文 化, 他 没 有 事 儿 让 每 个 员 工 的 而 精 的 我 能 生 了 每 个 快 点 儿 好 呢 事 儿 了, 每 个 打 包 眼 神 啊 能 事 儿 呢, 每 个 减 缓 上 去 的 多 了, 我 们 是 全 职 员 工, 十 六 万 人, 我 妈 有 一 把 二 人, 兼 职 员 工 比 我 聪 明, 每 个 字 闹 意 见 的 的 啊 的 发 明 的 六 上 呢 观 点 就 是 六 十 万 人 见 面 了, 大 没 就 业 人 口 可 以 在 家, 我 们 爸 爸 员 工 的 工 作 表 明 快 点 几 步 都 实 在 没 有 主 管 监 控 监 督 之 下, 供 暖 开 除 一 出 了 中 就 没 有 主 管 呀, 他 怎 么 对 待 客 户 我 们 没 有 看 到 的 大 你 被 你 商 场 受 过 而 言 了, 总 是 一 个 题 目 里 的 在 哪 儿 都 小 组 长 在 得 小 组 长 的 来 婴 儿 你 的 事 儿 啊 你 得 太 过 的 服 务 着 的 啊, 疗 效 啊 等 等 那 么 的 呵 呵 呵, 咱 麦 当 劳 肯 德 基 的 前 来, 经 典 的 冰 冷 的 吧, 我 们 不 是 呀, 你 看 我 们 妹 妹 都 出 去 的, 没 有 定 位 呢, 你 如 果 而 啊 那 必 须 是 文 化 真 正 输 入 的 脑 门 去 的 就 正 因 为 我 们 用 户 数 你 知 道 为 什 么 同 样 最 后 把 电 商 决 定 交 给 我 们 了 的 啊 认 为 第 四 大 好 啊 这 的 因 为 在 的 之 间 我 们 是 跟 朋 友 谈 两 次, 他 了 了 我 跟 魄 力 和 慢 点 的 讲 了 好 多 死 我 们 秘 密 谈 判, 但 每 次 他 们 到 时 候 我 们 再 等 等 再 打 得 看 也 同 样 的 一 直 说 不 舍 得 浪 费 了 我 去 了 美 国, 若 打 了 八 个 回 来 上 了 一 堂 立 马 就 爸 爸 给 我 了 啊, 因 为 去 美 国 的 时 候 的 八 天 就 开 始 给 内 部 开 会, 觉 得 说 老 刘 去 每 个 上 了 不 算, 这 是 我 们 同 行 电 商 千 载 难 逢 的 好 机 会, 证 明 在 老 刘 在 每 个 上 大 选 他 出 轨 了, 你 啊 绕 啊 绕 啊 买, 就 是 妈 和 泡 面 调 动 整 个 通 用 的 食 物 的 字 眼, 听 课 个 人 的 自 由 想 是 惯 流 量 让 拼 命 的 去 头 头 有 物 流 长 供 养 结 果 的 美 国 的 话 偏 弱 七 八 个 神 我 的 没 有 九 点 和 着 和 的 看 到 得 有 点 还 没 的 也 这 每 周 二 说 的 了 说 的 有 点 的 结 果 的 完 成 信 你 们 你 那 么 大 结 果 结 果 之 后 呢, 它 不 仅 仅 是 跟 我 们 的 差 距 没 有 缩 小 还 没 还 更 大, 所 以 呢, 破 裂 的 点 着 这 仗 没 法 打 而 发 达 发 现 的 找 个 阴 凉 的 竞 争 对 手 的 老 板 的 不 在 公 司 耍 管 的 嗨 到 帮 兄 弟 们 打 扭 打 不 管 呀 这 这 什 么 要 把 猜 将 不 要 打 了, 参 加 了 吧, 回 顾 呀, 要 想 爸 爸 了 一 个 几 万 元 不 等 安 娜 和 的 今 年 的 我 们 的 这 个 跟 我 们 多 样 的 很 想 的 我 这 里 是 吧 作 用 每 走 一 步 发 展 将 于 明 年 保 留 下 来 样 子 了 一 下 照 顾 外 勤 人 员 的 给 打 挺 好 玩 的 增 加 下 跳 底 下 那 我 建 议 呢 一 那 样 公 益 理 念 那 带 来 的 也 敢 一 代 购 的 没 的 境 界, 从 买 的 开 个 小 店 买 比 弟 弟 开 始 和 到 今 天 这 个 局 面 是 你 如 果 回 过 头 来 看 你 能 够 给 到 大 家 的 几 个 几 个 核 心 的 规 律 获 取 如 果 不 从 你 对 获 得 些 什 么 东 西 得 如 果 回 过 头 说 你 让 我 从 是 你 俩 从 差 开 始, 我 一 定 的 上 我 们 姑 娘 加 强 自 己 的 的 就 是 更 拼 命 的 正 品 得 还 不 够 骗 了, 我 觉 得 还 是 以 那 给 在 平 的 了 那 么 拼 可 能 的 不 是 体 育 场 的 不 时 间, 很 可 能 就 是 奖 励, 看 冒 险 我 们 怎 么 打 得 更 大 一 点, 因 为 吐 了 一 个 物 流 别 动 都 不 敢 中 投 入 魔 怔 的 巨 大 的 机 会, 你 很 很 清 晰, 哪 儿 很 大 的 敢 不 敢 脱 胎 于 咱 俩 眼 睁 睁 严 重 可 能 技 术 的 这 个 一 天 一 天 只 能 是 六 十 七, 你 心 里 很 痛, 我 们 物 流 杀 结 束 并 的 开 始 的 做 了 技 术 啊, 大 的 老 师 支 付 了, 其 实 就 是 一 种 很 小 的 一 种 很 强, 这 都 是 惨 痛 的 教 训, 来 佩 兰 说, 好 坏 的 第 一 个 上 玩 的 就 是 努 力 更 多 的 努 力, 拼 命 得 我 的 创 业 者 从 全 局 来 看 的 话 从 渲 染 看 着 发 发 过 亚 马 逊 报 告, 谷 歌 包 裹 配 合 我 我 看 到 所 有 的 揣 着 不 管 是 中 国 人, 外 国 人, 是 呢, 乏 味 可 能 多 少 法 国 人, 物 种 人 很 多 很 懒, 那 怎 么 不 是 欧 洲 还 有 很 多 情 况 的 说 我 看 他 真 的 是 掌 门 别 人 看 的 热 爱 我 要 去 呀 这 个 而 为 这 个 安 排 取 得 其 他 的 这 个 他 们 这 几 个 的 往 那 每 天 吃 一 个 工 作 太 肥 觉 得 对 觉 得 超 出 我 们 想 象 的 皇 帝 的 认 知, 他 可 能 有 富 二 代 富 三 代 拉 的 屎 端 尿 努 力 吕 良 伟 我 的 责 任 海 着 或 者 任 何 而 且 一 样 都 是 都 是 一 辈 子 将 于 做 前 铁 架 着 一 条 努 力 第 二 呢, 就 是 啊, 自 我 学 习 能 力 真 的 很 重 要, 今 天 看 到 我 们 中 国 人, 年 轻 人, 大 本 都 是 刚 毕 业 的 学 生, 对 不 久 的 没 有 管 理 的 经 验, 不 懂 什 么 的 战 略 是 内 容 自 建 的 秒 包 围 什 么 都 不 让 人 屋 子 最 早 融 资 太 怎 么 完 成 公 司 的 钱 我 就 认 为 围 攻 净 资 产, 我 是 老 公 就 找 开 始 要 想 被 非 法 个 爱 美 的 这 不 烫 说 你 的 值 多 少 钱 厉 害, 我 那 年 的 你 若 值 多 少 钱, 我 可 不 入 宫 多 少 钱 吗 ? 晚 上 财 务 算 算 了 好 几 天 啊, 把 枪 人 在 着, 把 净 资 产 减 去 负 债, 再 后 来 就 免 费 的 爸 爸 说, 挺 高 兴 的 的 的 呀, 我 就 是 我 不 懂 啊, 都 不 知 道 什 么 叫 溢 价 呀 什 么 的, 你 当 下 鼓 励 年 轻 人 都 知 道 我 那 脸 就 是 不 着 也 没 想 活 着 的, 哈 哈, 谁 呢, 你 要 不 断 的 学 习 的, 这 的 的 是 努 力 点 儿 学 习, 第 三 呢, 就 是 勇 气, 你 现 在 每 天 和 就 会 看 京 东 的, 也 去 看 你 的 产 品, 我 现 在 每 天 到 夏 天 的, 每 天 分 享 经 济, 每 天 不 确 定 的 每 天 从 来 不 算 大 为 买 个 让 品 牌 而 锁 骨 场 面, 我 肯 定 都 会 第 十 二 集 深 入 甜 得 像 我 们 公 司 内 部 一 个 产 品 呢, 小 群 选 那 里 面 每 天 我 都 在 变 化 呀, 说 啊, 男 人 他 老 蒋 大 家 想, 所 以 呢, 我 要 选 而 的 尚 北 京 上 海 哪 个 之 前 我 生 活 的 村 子 我 真 的 看 了 激 烈 的 调 查, 是 的 鬼 啊, 强 大 甜 点 和 上 大 米 知 道 馒 头 的 八 百 年 前 恋 爱 半 年 是 红 薯 半 年 是 带 来 今 天 的 我 们 是 的 技 法 后 续 了 啊, 没 有 任 何 一 个 我 你 评 委, 我 相 信 着 王 全 体 村 民 满 怀 信 心, 有 希 望, 我 们 全 体 村 民 愿 意 干 活, 不 同 倘 若 雅 诺 什 没 而 做 了, 永 远 不 了 啊, 昨 儿 样 样 富 有, 闪 耀 晴 朗 啊, 要 努 力 之 后 动 物 的 力 量 把 中 午 要 持 续, 我 们 先 要 使 劲, 他 要 全 力 设 备, 所 有 的 这 样 都 调 动 起 来, 才 能 真 正 啊, 把 我 们 整 个 中 国 老 百 姓 的 日 子 怎 么 过, 好 想 啊 吧, 最 后 感 谢 我 们 在 这 边 下 去 吧, 目 标, 我 们 五 年 的 时 间 啊, 将 军 满 五 年 的 时 间, 像 我 们 每 个 家 庭 收 入 提 高 十 倍, 过 十 年, 十 年 里 面 啊, 最 阶 层 对 打 电 话, 我 觉 得 他 过 去 十 年, 且 且 再 见, 从 而 就 说 啊 很 多 其 实 没 有 特 别 大 的, 特 别 看 民 企 是 那 些 没 最 大 的 是 不 好 同 情 和 那 就 一 千 亿 把 不 能 才 有 来 还 没 到 一 相 应 的 什 么 面 前 他 的 方 式 没 多 久 很 四 年 啊 对 啊 的 你 想 在 那 个 年 代 的 最 大 的 明 确 可 迈 入 有 几 十 亿 的 是 一 百 多 意 识 都 就 了 不 起 了 到 上 去 从 全 球 来 看 的 茶 里 面 我 们 微 不 足 道, 没 有 你 的 时 候, 一 全 面 五 大 没 有 女 生, 他 们 女 生 明 确 就 的 呀, 而 是 你 对 整 个 国 家 得 光 明 的 银 行, 对 有 限 的 得 行 业 都 是 但 今 天 不 是, 当 然 责 任 与 他 呀, 十 年 前 前 的 干 什 么 十 一 年 起 家 都 是 怎 么 降 低 成 本 想 叫 你 上 的 说 法 就 是 神 户 把 员 工 就 按 钱 呀 把 的 工 棚 的 的 抓 庞 大 整 个 中 国 制 造 业, 如 果 说 一 二 十 年 前 文 件 建 立 的 内 容 成 本 压 榨 呀, 哑 巴, 这 个 这 个 这 个 劳 动 力 的 你 一 点 不 过 谁 起 家 得 的 得 时 间 了 的 玩 儿 法 市 面 上 怎 么 赚 钱 的 方 式, 纪 念 碑 的 用 今 天 你 的 赚 钱, 你 完 全 可 以 通 过 你 的 技 术 通 过 你 的 商 业 模 式, 而 不 要 再 通 过 压 榨 劳 动 力 啊 在 客 户 五 险 一 金 啊, 那 今 天 是 啊, 你 的 不 逼 着 的 是 个 病 人 着 走 中 倒 了 贼 今 天 的 我 就 所 有 企 业 都 必 须 将 其 帽 子 气 囊 正 拉 着 设 备 与 来 培 育 容 忍 有 钱 人 存 在 的 问 题, 你 的 钱 什 么 赶 紧 钱 是 不 再 建 立 的, 为 社 会 带 来 巨 大 价 值, 技 术 上 你 的 你 的 给 力 的 回 暖 将 你 还 能 动 画 片 您 家 大 学 一 根 筋 的 你 没 见 的 要 见 到 整 个 是 个 下 来 的 了 二 十 年 没 有 重 大 的 选 择, 二 十 年 最 大 的 呃, 不 用 我 去 那 个 啊, 到 你 家 家 乡 很 感 谢 你 玩 笑 人, 你 还 是 特 别 念 念, 就 念 想, 这 个 是 这 个 是 品 牌, 我 家 人 在 着 你 的 等 了 整 整 每 日 都 没 人 敢 的 不 家 乡 的 名 字 呢, 还 是 以 很 以 你 为 为 主 围 剿 的 的 看 到 下 也 帮 了 本 人 也 帮 了 我 很 多 啊, 你 对 家 乡 情 结 怎 么 形 成 的 ? 我 真 没 法 选 朋 友, 我 本 人 的 呢, 十 八 年, 从 小 到 大 都 是 在 此 前 长 大 的, 我 都 有 很 多 人, 你 不 也 回 去 了 得 我 就 的 离 开 了 我 这 个 还 是 比 较 我 不 大 清 楚 还 是 手 机 我 还 是 什 么 的 先 搞 清 楚 别 我 小 花 老 师, 我 出 马 是 我 所 这 个 老 师 们 我 都 没 的 气 又 恨 新 婚 大 的 小 的 回 家 乡 取 跟 帖 老 乡 在 一 起 的 的 的 我 觉 得 我 还 是 非 常 敢 那 个 你 的 干 过 得 很 快 了, 很 多 人 觉 得 感 恩 农 妇 的 但 这 一 你 要 做 的, 若 你 还 敢 感 恩 的, 得 到 很 多 的 快 乐, 但 你 若 一 颗 感 恩 的 心 的 话 编 队 你 点 滴 之 恩 能 放 大 十 倍 一 百 倍 看 进 入 做 你 自 己 会 很 快 你 看 的 使 用 都 很 好 的 人 让 一 片 光 明, 你 你 性 格 投 影 的 公 司 里 面 大 家 都 兄 弟 啊 呢 在 一 起 啊 这 期 挺 难 的 小 公 司 容 易 吗 的 一 两 百 爪 的 在 的 是 人 几 万 的 的 还 能 还 能 的 公 司 只 在 这 儿 工 作 觉 得 挺 挺 有 荣 誉 感 的 了 讲 到 京 东 身 体 不 用 想 一 点 这 被 我 就 在 通 过 融 化 可 能 人 个 性 慢 慢 所 形 成 的 可 能 说 如 果 要 说 是 我 跟 别 的 企 业 家 有 不 同 的 化 解, 特 么 是 吧 我 可 能 是 吧 走 企 业 管 理 最 朴 实 的 内 容, 且 里 面 是 不 能 何 时 放 弃 也 不 回 家, 你 家 的 什 么 呀 家 一 定 是 你 最 安 全, 最 温 暖, 最 充 满 爱 和 见 的 地 方. 假 证 的 经 历 对 你 来 讲 意 味 着 什 么 ? 对 我 这 么 爱 我 就 的 假 你 你 从 二 十 二 岁 了 摆 二 的 白 小 回 来 吧, 我 就 的 如 果 出 了 我 家 庭 之 外 的 一 切, 不 就 他 他 的 这 些 特 点 排 气, 总 部 民 间 的 对 创 业 处 分, 但 他 并 不 比 他 并 不 话 题, 然 后 呢, 而 且 他 还 得 到 极 大 的 每 年 过 年 的 时 候 以 后 回 老 家 想 起 来 发 电, 发 点 红 包 啊, 甚 至 支 持 假 想 的 建 设, 就 家 乡 情 结, 一 代 人 在 上 地 上 的 理 解 尝 试 面 前 都 是 一 样 的 卖 假 货 的 吧, 我 要 善 待 的 员 工, 让 我 呀 能 够 促 进 产 业 的 进 步 的 可 能 今 天 的 上 一 百 年 前 五 百 年 中 国 的 的 欧 美 的 在 上 我 就 带 太 大 的 回 答 的.\\n'"
      ]
     },
     "execution_count": 16,
     "metadata": {},
     "output_type": "execute_result"
    }
   ],
   "source": [
    "transcript_chn"
   ]
  },
  {
   "cell_type": "code",
   "execution_count": 17,
   "metadata": {
    "id": "UiHWAEopYhKC"
   },
   "outputs": [
    {
     "name": "stderr",
     "output_type": "stream",
     "text": [
      "LOG (VoskAPI:ReadDataFiles():model.cc:213) Decoding params beam=10 max-active=3000 lattice-beam=2\n",
      "LOG (VoskAPI:ReadDataFiles():model.cc:216) Silence phones 1:2:3:4:5:6:7:8:9:10\n",
      "LOG (VoskAPI:RemoveOrphanNodes():nnet-nnet.cc:948) Removed 0 orphan nodes.\n",
      "LOG (VoskAPI:RemoveOrphanComponents():nnet-nnet.cc:847) Removing 0 orphan components.\n",
      "LOG (VoskAPI:ReadDataFiles():model.cc:248) Loading i-vector extractor from /Users/moonqj/.cache/vosk/vosk-model-small-en-us-0.15/ivector/final.ie\n",
      "LOG (VoskAPI:ComputeDerivedVars():ivector-extractor.cc:183) Computing derived variables for iVector extractor\n",
      "LOG (VoskAPI:ComputeDerivedVars():ivector-extractor.cc:204) Done.\n",
      "LOG (VoskAPI:ReadDataFiles():model.cc:282) Loading HCL and G from /Users/moonqj/.cache/vosk/vosk-model-small-en-us-0.15/graph/HCLr.fst /Users/moonqj/.cache/vosk/vosk-model-small-en-us-0.15/graph/Gr.fst\n",
      "LOG (VoskAPI:ReadDataFiles():model.cc:303) Loading winfo /Users/moonqj/.cache/vosk/vosk-model-small-en-us-0.15/graph/phones/word_boundary.int\n"
     ]
    },
    {
     "name": "stdout",
     "output_type": "stream",
     "text": [
      "Progress: 0.0\n",
      "Progress: 0.029423476403352706\n",
      "Progress: 0.05884695280670541\n",
      "Progress: 0.08827042921005812\n",
      "Progress: 0.11769390561341082\n",
      "Progress: 0.14711738201676353\n",
      "Progress: 0.17654085842011624\n",
      "Progress: 0.20596433482346896\n",
      "Progress: 0.23538781122682165\n",
      "Progress: 0.26481128763017436\n",
      "Progress: 0.29423476403352705\n",
      "Progress: 0.3236582404368798\n",
      "Progress: 0.3530817168402325\n",
      "Progress: 0.3825051932435852\n",
      "Progress: 0.4119286696469379\n",
      "Progress: 0.4413521460502906\n",
      "Progress: 0.4707756224536433\n",
      "Progress: 0.500199098856996\n",
      "Progress: 0.5296225752603487\n",
      "Progress: 0.5590460516637015\n",
      "Progress: 0.5884695280670541\n",
      "Progress: 0.6178930044704068\n",
      "Progress: 0.6473164808737596\n",
      "Progress: 0.6767399572771122\n",
      "Progress: 0.706163433680465\n",
      "Progress: 0.7355869100838177\n",
      "Progress: 0.7650103864871703\n",
      "Progress: 0.7944338628905231\n",
      "Progress: 0.8238573392938758\n",
      "Progress: 0.8532808156972285\n",
      "Progress: 0.8827042921005812\n",
      "Progress: 0.912127768503934\n",
      "Progress: 0.9415512449072866\n",
      "Progress: 0.9709747213106393\n"
     ]
    },
    {
     "name": "stderr",
     "output_type": "stream",
     "text": [
      "WARNING: reverting to cpu as cuda is not available\n",
      "Some weights of the model checkpoint at bert-base-uncased were not used when initializing BertModel: ['cls.predictions.transform.LayerNorm.bias', 'cls.predictions.bias', 'cls.predictions.transform.dense.bias', 'cls.predictions.decoder.weight', 'cls.predictions.transform.LayerNorm.weight', 'cls.predictions.transform.dense.weight', 'cls.seq_relationship.weight', 'cls.seq_relationship.bias']\n",
      "- This IS expected if you are initializing BertModel from the checkpoint of a model trained on another task or with another architecture (e.g. initializing a BertForSequenceClassification model from a BertForPreTraining model).\n",
      "- This IS NOT expected if you are initializing BertModel from the checkpoint of a model that you expect to be exactly identical (initializing a BertForSequenceClassification model from a BertForSequenceClassification model).\n"
     ]
    }
   ],
   "source": [
    "transcript = voice_recognition(\"shortwave.mp3\", 'English')"
   ]
  },
  {
   "cell_type": "code",
   "execution_count": 18,
   "metadata": {
    "id": "Th_BTmgrkFt_"
   },
   "outputs": [
    {
     "data": {
      "text/plain": [
       "4551"
      ]
     },
     "execution_count": 18,
     "metadata": {},
     "output_type": "execute_result"
    }
   ],
   "source": [
    "len(transcript.split(' '))"
   ]
  },
  {
   "cell_type": "code",
   "execution_count": 19,
   "metadata": {},
   "outputs": [
    {
     "data": {
      "text/plain": [
       "\"You ' re listening to shortwave from NPR heavily a separate so do and I ' ll remember getting touch sex that in high school. Ah, kind of adult to be honest. I did a lot of my own research, like my mom got me some bugs and them when not got to be like on bit much. I got my books and taught myself, yes, yes me, to sympathize I actually with it. Sneak into the little local bookstore and find our bodies ourselves in like be human development section and surreptitiously read it in the corner and hope that nobody I knew walked in and asked what I was reading Little and little littleawkward questioning Aaron, And what is maybe not surprising about this, given we had to do our own research, is that there is actually no national mandate for sex ed in the U. S. Really, That kind of surprises me, like none. Yeah, and not only that, but most sex ed that does exist leaves out LGBTQ topics are just barely touches on it. And then there are states where they even require educators to betray topics like homosexuality in a negative one. That has gotta be so hard for teens and kids who are LGBTQ Aaron, or those of us who are just questioning and don ' t know where to look for more information and don ' t have adults that we can ask questions to which is why I ' m so delighted that Life Kit went out andtalk to some of those sexuality educators about what queer sex ed could look like, and we ' re going to get those know that conversation now. Aaron, I love this so so much. I am ready to get the queer sex adolescents that I missed out on. That is the sparkly attitude reason. Let ' s get to a heads up. This episode is about sex and may not be for everyone. My name is Lili Get us. I ' m a producer and journalist or NPR and this is life. Get like you. I spent a lot more time last year hold up inside my house. I was really bored, so idid it. I downloaded Tick tock I didn ' t know what I find by. I didn ' t want to end up being a millennium fumbling my way through Meghan the Stallion, Savagery Max or Benny, Super Lonely Dan ' s my for your page landed me on Pop Tick tock where I found a fun LGBTQ plus community, something that I really mess from not being able to see friends or go to gay bars. I ' m not sure what the algorithm was getting out when one day and started showing me take talks of clear people getting tips on how to have sex with some with the all that, but there was wondering where was this information when I needed it. It ' s possible you took sex ed years ago, so you may not remember it well, but even if you do, did you come out belowlike you learn much ? I went to school in Texas where the approach to this day requires educators to emphasize abstinence until marriage. And that ' s even if the school chooses to teach about sex. Growing up, sex was talked about as something that exclusively happened between assist man and as this woman. It was all very had our normative Now fast forward a bed. I ' m thinking about having sex for the first time with someone who has a ababa and I ' m excited by. I ' m also nervous wreck because I have no clue what to do. So in an effort to save you from that panic, I present this crash course on how to have better and safer sex regardlessof here and to. The following message comes from NPR sponsor Aspiration After over a decade working in climate action, Andre Czerny started our personal finance company to help people use their dollars as a force for a positive change. Today, a lot of people wanna be part of the fight against climate change, but they don ' t know where to start. And with aspiration were able to give people ways to have easy automated climate impact built into what they ' re already doing every day. Visit aspiration Dotcom today to learn more before we jump into things I wanna say, Don ' t feel bad about wanting to knowmore about sex. We were prepared to succeed in this area, so our first take away is facing the facts. Queer people are intentionally left out of the sex at conversation and the U. S. It ' s a hotly debated topic being taken up by state legislatures right now. As of April first, twenty twenty one states like Alabama, Louisiana, Mississippi, and taxes not only leave LGBTQ plus students out of the conversation, but go as far as stigmatizing their identities through what is often called know promo hama laws. This is basically legislation that prohibits and in some cases, penalize as educators if they speak affirmatively about homosexuality.That ' s Chris Harley, President and CEO of Seekers Sex Ed for Social Change, which, as you can imagine, is incredibly devastating for a young person who is clear he and it, you know, creates really unsafe environments for young people. There ' s currently no national mandate for sex education in the US, so depending where you grow up, you may or may not receive a comprehensive sex education. According to Seek as is count, there are thirty five states as still require schools to teach only abstinence until marriage or truly stress abstinence until marriage. There are fifteen states that don ' t require sex education to be even medically accurateevidence base or evidence and informed. And there are nine states that explicitly require that teachers do not speak about homosexuality or LGBTQ individuals in a positive fashion. On the other hand, over twenty five states and the District of Columbia do mandate sex education, and eleven states have policies that requires sex Ed to be inclusive of sexual orientation instead of the current scattered teachings, seekers, facts and more. Inclusive and comprehensive curriculum, which would include education about human anatomy, healthy relationships, balance, prevention and more. This comprehensive kind of education has positive benefits, Hurley says. It ' s prevent a better mental healthoutcomes and reduce suicidal ideation among some query youth. It can also help students understand their clear classmates identities. We do have the research that shows that comprehensive sex education bad affirms and is inclusive of sexual orientation, gender identity and expression can reduce homophobic bullying and harassment. Increases the safety of school environments for LGBTQ young people, but actually for all students instead. An emphasis on abstinence and shame base messaging prevails in many states. That combined with your reserve queer identities and sex education leads lesbian and bisexual used to experience a higher rate of unintended pregnancyis when compared to their heterosexual peers. Instead of shaming people for wanting to embrace her sexuality, Erica Heart says people should receive sex positive messages. Heart his sexuality educator with a focus and racial, social and gender justice. The also teach workshops on creating saber spaces for LGBTQ I A Plus communities and on something called Radical sex positivity Sex positivity to me is the end of a projecting Cs and or of patriarchy on two people, right ? Sex positivity looks looks like actually dealing with the structures that have kept us from experiencing pleasure and moving and awayyea that abolishes them all, Right ? Or second, take away his get to know your body and discover what pleasure feels like to you. So why do we even have sex ? Well, for one reason, Simply put, many of us enjoy the pleasure it gives us right. And one of the best parts about it is that we can access lot of that pleasure on our own. So set the mood just like you might for someone you ' re interested and and have a date night yourself. Explore every inch of your body. I ' m not kidding. If necessary, get a him year to explore these body parts. Young people should know all of their genitals as much as I know had shoulders, knees and toes. They should know penis vulva breast. Amos Herit also has another unique approach. They ' ve assigned students to create three models of anatomy as a way to explore genitalia And it has students really look at some parts of anatomy that oftentimes have not talked about. Like the internal and external sphincter of the. Is. And how they are super sensitive to touch and also have lots of blood vessels. So it ' s important to be sensitive to that area. And there ' s not a lot of conversations around. The. Clutter is. And it ' s only function which is sexual pleasure, and also the internal clutter is. Exploring your anatomy, how it looks, how it feels and how it functions will get you one step closer to understanding your sexual needs. And once it ' s also possible to discover you might knowi have any of those needs or wants. But if you do want to have sex, think about it. You ' ll benefit in more ways than one by accessing pleasure on your own. If you find yourself having sex with someone who has the same genitalia or body parts as you, getting in tune with your body could be a win win scenario. You can discover what you like and possibly even what another person might be. And to. If you want to learn more about pleasure. Like it also has an episode all about it and how right now is the perfect time to explore your body. Will link to it in our episode page. Now. Depending on what your sex history looks like, you may already know some of what you like sexually. Some of it might be informed by the messages you ' ve gotten from society. It ' s a matter of just taking and messages that you ' re receiving from the world and seeing asthey are sit or not. And if those messages don ' t apply to you, work on and learning them. Heart says Masturbation is a great tool for figuring out what you do or don ' t like. There are many people who are in relationships live folks live penises that are interested in penetration, right, regardless of their sexual identity. One of the awesome opportunities about being a queer person is that we may not be as entrenched in some of the gender narratives and roles that can be kind of prescriptive around on sexuality. So I think it can be a really amazing opportunity for us to explore our sexuality outside of those norms and patterns. It can also be kind of confusing because it could just be like, Well, what do I do ? Meetsexuality educator Molina, He ' ll gonna Davis, who also goes by their stage name Millionaire Gays They are performer and cofounder and director at Will Gotta based in Mexico City. Expanding and notion of what sex can look like is super important. So what is sex ? Well, to start off, let ' s debunk the obviously false notion that sex only involves a penis inside a vagina and depending on what kind of genitalia and body parts you have and what turns you on. The answer to this question will be different for everybody. That gives us to take away number three. Know that there isn ' t a singular or right way to have sex. Sex can be whatever brings you pleasure. A. MichaelWe ' ve been told it doesn ' t have to necessarily be physical. Either we could have phone sex or like internet related sex were were like having sex across a screen. Where are you know we could be like touching ourselves. Your idea of pleasure is unique, so they encourage you to create a definition for yourself. For me, it would be like pleasure oriented experiences or interactions that involves some sort of arousal. You know that doesn ' t mean that it has to. And an orgasm. This last point is pretty important. Not everyone experiences orgasms and not everybody wants to. I prefer a definition that is inclusive of lots of different body parts and those could be like a diversity ofgenitals or. But it could also be other types of body parts. Like we don ' t just have to have sex with our genitals we can have had sex. On top of that, sex can happen with who ever you want. Human sexuality is very complex and you don ' t need to be tied down to any one thing. There ' s identity and there ' s also behavior and like I could identify as lesbian and still have sex with men if I wanted to, you know. And so I think it ' s important to empower everyone with the information that they need so that they can make decisions with their body and. And not assume that like identities are going to be static forever. If a person claims and identity trust that they know who they are throughout time, you can be from that you are fluid and from that you are not. You can also not knowwho are not feel strongly about your identity. And that ' s also fine. While I found the queer community on tick tock inviting, I also came across a lot of content that didn ' t have from I lived experiences as a queer women. You ' ll find stereotypes and in accurate representations in the media that won ' t necessarily fit your own lived experiences either. So remember, you don ' t have to ascribe to that because sometimes we may see things that look affirming but actually aren ' t. And I would say anything that ' s like trying to police your identity. Beware for me like the biggest tool of media literacy is like is this actually affirming knee and helping any. Or is this making me feel bad ? Once you figure out what doesthe from you, you can choose to throw person into the mix and you can communicate with them some of what you ' ve just learned, but it doesn ' t have to be everything. Erica Heart says, Well, it may feel awkward to communicate these things. You shouldn ' t feel any shame when doing so. If someone makes you feel that way, then maybe it ' s a sign they are ready to have sex with you. So think of it this way. You ' re basically providing another person with your guide book and they should provide you with There ' s. As time goes by, you might get more comfortable sharing more guidelines. Also know that changing the guidelines is fair game. So or for take away. His communication should be ongoing with sexual partners to make sure everyone is comfortable and satisfied. Of course, consent is part of this conversation, but it ' s more extentof than you might expect. It ' s necessary that can sit includes what is informed right ? So you are informed about what you were going to be engaging in and can say is also ongoing right ? So even if things are getting hot and heavy, you can stop it any time, right ? And regroup Have a conversation about. Get more specific right ? Specific is another value. Another aspect that has to be included in could say right, I ' m like it when you touch me there. But can you push a little bit harder ? So don ' t be afraid or embarrassed to ask for what you want. It only make the sex that much better and if you ' re in a relationship, it can improve that to. Listening is also necessary if someone says no to particular act, it ' s andport in to respect that. For example, if you want to try anal by your partner isn ' t into it, respect that boundary and move on. Maybe there ' s something else or could try something that you ' re both comfortable with and excited about. Heart. Recommend Scarlett in the US. Know maybe so. A sexual and been Tories stock list. This checklist helps you decide what your boundaries are, what physical and non physical acts you ' re comfortable with, what words of from you and more. You and your partner should go through the list individually. It burst. Then you can compare notes. If that ' s not your jam. Here ' s another way this conversation can look. Think it ' s different for just about anybody were I would say you know, let ' s have a conversation about what feels good forour bodies. You know, I think that would feel good for me, right ? I. Statements are important. This as something that you want to do re is something that you want to engage with me in and from their. Based on the answer that you get negotiating on what that looks like. This communication also needs to progress if you continue pursuing sexual activities with the same person. As we ' ve already mentioned, queer identities are not static bodies and bodily expression can also change. So it ' s good to make sure you and your sexual partners remain comfortable. So maybe this conversation looks something like you asking them if they still like a penis being called that or if they prefer another name for it. If you want to die further into what consent should look like and how to practice it like it has a great epasit on this that you should check out. All right, We ' re at our fifth and final take away. Don ' t let shame or stigma prevent you from caring for your sexual health. Let ' s begin with STDs and as to eyes. We ' ve come a long way in the medical field by Gates says Stigmas have stuck around. What are the misconceptions around as to eyes or studies on either so many. I think the biggest thing is that as to eyes make you dirty, which is just a terrible lie. And also I think the other one is like it. You get in SCI. Your sex life is over it like know most as to eyes or curable are treatable and it doesn ' t have to be like this. Mark of shame using barrier methods like a condom or dental dam can prevent as to eyes and pregnancies but they won ' talways be foolproof So getting tested is another way to be on top of your sexual health testing A super important. I think It ' s also really important to mention that access to testing in the United States is very spotty for a lot of people you know I ' m. People don ' t have health insurance or the. Live really far away from a free clinic and they don ' t have a car. But testing is a really great way to know your own status. Like know where you stand so that you can communicate that with other people. They say it ' s smart to determine where you land on what they ' re called the risk spectrum. So like if we know or risk averse maybe we know that we want to use multiple forms of barrier methods and we also want to limit any sort of fluid exchange. That would mean like I just wantto masturbate next that person or I just I ' m only willing to do have sex with gloves. Or you could be more risk taking, whatever that may look like for you. So how often should you get tested ? Well, there isn ' t a SAP recommendation because everyone ' s risk assessment looks different. Go to a trusted health care provider and work together to decipher your level of risk. Risk is not a moral judgment. It ' s kind of like a statistical equation, you know, like how many people are you having sex with were What type of safer sex methods are using ? Going to a doctor ' s office can be intimidating for a number of reasons. It might help to find a doctor who understands your needs as a queer person. And if you decide you want to get tested simply for peace of mindjust say I ' d like a full panoply Please. And that way though, know to test for a full range of us to eyes. Finally, sexual health also includes caring for your mental, emotional and physical health. Sexual health is in or sectional. Sexual health is so much more than just as Chad prevention. I think it ' s mental health in relation to gender or sexual identities around the sexual encounters we have. I think sexual health has to do with general bodily well being. We ' re not just individuals right ? Were inserted in structures that go beyond just individual social structures, like racism, like classes, I ' m like able Islam, and those things impact how we have sex. The impact weatherare we feel entitled to our bodies or not. They impact. You know, whether we think our pleasure is important. They also impact the likelihood that we may experience sexual violence. Why is it that black trans women in the United States experience more violence than white sis women ? There ' s an intersection of structural forces and personal experience there that has very real consequences for how people can live out their sexuality or not. Now I know this is a lot to tackle, so how do we do it ? Well, having these conversations is a start. That means talking about sex positive messages, learning about the benefits of comprehensive sex edand understanding the implications of legislation that is seeking to limit health care for trans youth. Again, many of us were equipped to thrive in our sex lives, especially not as queer people. Tick tock or any other social media shouldn ' t be your primary source for sex ed by. I get that We gotta take what we can get. Sometimes. I hope after listening to this you ' re able to feel a little more confident in your sex life. Since we camped at everything into this episode and there are some things I can ' t say on NPR, I ' ve compiled a list of additional resources with the help of our experts, will point you to some links that covers safer sex for trans folks and more on how you can explore your sexuality. Beforewe recap the take away his. I just want to say it ' s going to take time and practice. There may even be times where you ' re still thinking, what the heck am I doing by. Have fun with it. You ' ll get the hang of it. Go black or a. Yeah, Let ' s recap some of what we ' ve just learned Take away number one. Sex ed in the US is severely lacking and not inclusive, that LGBTQ Plus students just like their heterosexual peers, queer people deserve to have sex sex and that means been given the knowledge on how to do it. Take away Never to get comfortable with your body and discover what turned you on or off. Million Gates has one last bit of advice. I think one were looking to explore our sexuality or looking to explore our pleasureor It ' s a really great tool to think of our explorations as like pleasure oriented instead of goal oriented. Most of us have previously been found a narrative that certain body parts are growth or that we shouldn ' t access pleasure by. I think if you give it a chance you ' d just my enjoy it. Take away Number three societies header or normative and patriarchal norms have always try to define what sex can look like, but the truth is there isn ' t a right way to have sex. You get to decide what you want sex to look like for you. Take away number for whether it ' s before, during or after sex. Communication is important. Be upfront about what you want from your sex partner and take away number five. Sexual health is not only limited to our generalall ' s but also our body and mind. Don ' t let shame or stigma prevent you from caring for your sexual health. For more like a check out or other episodes. We have one on how to pick birth control that works for you and another and how to set boundaries with family. You can find these are and PR dot org, Flash like it And if he left Life Cat like I do and you want more, subscribe to our newsletter and PR dot org Slashed Life Kit newsletter. And now a completely random tip this time from listener Mark Harris. What will bring me was to my coffee a for and put it in my own in the morning. My our coffeecool you have girl next door. I think my sister Leslie will like that or a If you gotta good tip, leave us a voicemail at two o, two, two, one, six, nine, eight to three or a massive waste memo at Life kit and PR dot org. This episode was produced by my talented and good friend Audrey. One making Kane is the managing producer, Beth Donovan, his senior editor, and this episode was edited by Mallory. You with help from now Clark, Special thanks to Demi Brown and a special apology to my roommate Naomi for racing you about tick tock or digital Editors are back, Harlan and Clara Lombardo and our editorial assistant is Claire Murray Schneider. I ' m really get us. Thanks for listening.I ' m. Yea Shaw, I ' m Kim. Yeah, committees where The host of the MPS podcast Invisible. Yeah, you can think of Invisibility It kind of like a sonic black light. When you switches on, you will hear surprising and intimate stories. Stories that help you notice things in your world that maybe you didn ' t see before. Listen to The Invisibility a podcast from NPR. This message comes from W. N. Y. C. Are you curious about the world but also want to be surprised and even moved each week ? Radio Lab Investigator stories that provoke delight and ask you to completely change the way you view the world. Listen to Radio Lab where ever you get podcasts\\n\""
      ]
     },
     "execution_count": 19,
     "metadata": {},
     "output_type": "execute_result"
    }
   ],
   "source": [
    "transcript"
   ]
  },
  {
   "cell_type": "markdown",
   "metadata": {
    "id": "St6F8vGnaQ9w"
   },
   "source": [
    "# Step 3: Summarize the text using huggingface transformer\n",
    "\n",
    "`Download a summarization model from huggingface.`"
   ]
  },
  {
   "cell_type": "code",
   "execution_count": 20,
   "metadata": {
    "colab": {
     "base_uri": "https://localhost:8080/",
     "height": 195,
     "referenced_widgets": [
      "3a73ae19141642d5a94f106696739a54",
      "98cb64ba5da142a1a81e7b79afbac4e9",
      "2ae82b753c7943b8ad6649e3f5a632f5",
      "eefb701cc9f2411e922f56697bb0c523",
      "e5a04ea4c2d844eca70d890852523301",
      "c758f7c6c13745a8939f24114d8bfb02",
      "4a4c4a1e6790415faf786e18a5df3c2c",
      "d2302b20f614452f9084567a9909e390",
      "166617667eb6450a8c5007524d72bfc5",
      "c9683dd3af024e6d90a71fde05c17416",
      "79830ff9b9e144bb9f9d116e2880fcbf",
      "15190059ed5a4ba4beb74af17bfde0db",
      "99d7a163cfe04b4eb687c8680e84870a",
      "adc6bace673742a1bcc6b8182d5b78de",
      "f3ad446452614449ba3e1ee153c44822",
      "336046e071d54db29a613d558ee3025f",
      "8ede83fed2a849898cd795eb1ee3f5d9",
      "cab5b9ee0a7240e68625bb648f5929bf",
      "1421e183f08841a1b8dc46e0051aea7a",
      "10fc5b2b06904117b6eca20b43cff8cb",
      "2c452cb9765045c6a856ce1c3c812bfb",
      "2b4d6604472d493abf93042eb1153ff0",
      "82bcb73038974633855ee25c8029a292",
      "d890fea6fae04e5494565d0ddec9ba09",
      "31e784d1c2f94eb7a53ca9e41f2655d3",
      "2a4781cc3fb6491aa670712c75aae495",
      "7312b7abdacf447394e41cb479c539c7",
      "d78a4db00cd74173a5c89c8c78876f7d",
      "bd932369516640f2b648007c46b42ba2",
      "5105e2d682ec467690ddffe63c6a037b",
      "7a576b52de744c6cb3c00c4c8fed3178",
      "e3397b6fd6ab4c97b2f4b57781175381",
      "e0c5befd6735457abeda9ba12d13fb6b",
      "d7dcc7a3fee647c399f63f66b546522a",
      "96228c45902a469ca8a7d5b1be5ddbba",
      "11018141d36e409db77cca5f28cf8a44",
      "c27b51d4b717470997bd46906943b5e7",
      "8024ff61c5014e209c31b893bca3c443",
      "ef76c2b047da4ed3a9d02925015fcf74",
      "cd510f88df5b42c3bee2ef8e675c8ba4",
      "3f9a62b6d381442b847649190bd0746d",
      "fb05ffaeee9f45c5ba76744b481908bf",
      "e5b7819cb3d14e9e85c2eeb22206f55c",
      "9108ea1eb4f74d66beafaad259796840",
      "a37034c10ed74e3aaf6ce13711f160b9",
      "f0f9bdd310aa452ca672cf822f9ff9bf",
      "075b15ab81154c2486e1d1ddd9a9a35c",
      "c59e803d7d214ccd8dd06c7442479def",
      "c7e522f5154a488391305445148de506",
      "25f8406e52d94587a69d3b2ab56f6561",
      "6fd5d5c2f3bc48a5be774c3f2c05db67",
      "809a818306744de4b727c7200c102222",
      "53792ee96068489c8ee02c82448bca94",
      "1cd348feb8884ad997576994d5934a53",
      "ee7c7e54ecfa4864919b39423d1a22c5"
     ]
    },
    "id": "i4zGKhAfZX27",
    "outputId": "926b2071-ea07-4201-a2a2-0a94a6b5c94f"
   },
   "outputs": [
    {
     "name": "stderr",
     "output_type": "stream",
     "text": [
      "No model was supplied, defaulted to sshleifer/distilbart-cnn-12-6 (https://huggingface.co/sshleifer/distilbart-cnn-12-6)\n"
     ]
    },
    {
     "name": "stdout",
     "output_type": "stream",
     "text": [
      "Metal device set to: Apple M1\n"
     ]
    },
    {
     "name": "stderr",
     "output_type": "stream",
     "text": [
      "2022-06-20 17:06:27.996935: I tensorflow/core/common_runtime/pluggable_device/pluggable_device_factory.cc:305] Could not identify NUMA node of platform GPU ID 0, defaulting to 0. Your kernel may not have been built with NUMA support.\n",
      "2022-06-20 17:06:27.997725: I tensorflow/core/common_runtime/pluggable_device/pluggable_device_factory.cc:271] Created TensorFlow device (/job:localhost/replica:0/task:0/device:GPU:0 with 0 MB memory) -> physical PluggableDevice (device: 0, name: METAL, pci bus id: <undefined>)\n"
     ]
    }
   ],
   "source": [
    "from transformers import pipeline\n",
    "\n",
    "# For a smaller model\n",
    "#summarizer = pipeline(\"summarization\", model=\"t5-small\") # for English only\n",
    "summarizer = pipeline('summarization')"
   ]
  },
  {
   "cell_type": "code",
   "execution_count": 28,
   "metadata": {
    "id": "Fm3BV5ZLaa7y"
   },
   "outputs": [],
   "source": [
    "# with open('/Users/moonqj/Desktop/Voice_Recognition/transcript.txt') as f:\n",
    "#   transcript = f.read()"
   ]
  },
  {
   "cell_type": "code",
   "execution_count": 21,
   "metadata": {
    "colab": {
     "base_uri": "https://localhost:8080/"
    },
    "id": "ZTT2iJb0aWF0",
    "outputId": "dc691faa-26b9-4ffd-d2a4-80a9bb3876f6"
   },
   "outputs": [
    {
     "name": "stdout",
     "output_type": "stream",
     "text": [
      "4551\n",
      "You ' re listening to shortwave from NPR heavily a separate so do and I ' ll remember getting touch sex that in high school. Ah, kind of adult to be honest. I did a lot of my own research, like my mom got me some bugs and them when not got to be like on bit much. I got my books and taught myself, yes, yes me, to sympathize I actually with it. Sneak into the little local bookstore and find our bodies ourselves in like be human development section and surreptitiously read it in the corner and hope that nobody I knew walked in and asked what I was reading Little and little littleawkward questioning Aaron, And what is maybe not surprising about this, given we had to do our own research, is that there is actually no national mandate for sex ed in the U. S. Really, That kind of surprises me, like none. Yeah, and not only that, but most sex ed that does exist leaves out LGBTQ topics are just barely touches on it. And then there are states where they even require educators to betray topics like homosexuality in a negative one. That has gotta be so hard for teens and kids who are LGBTQ Aaron, or those of us who are just questioning and don ' t know where to look for more information and don ' t have adults that we can ask questions to which is why I ' m so delighted that Life Kit went out andtalk to some of those sexuality educators about what queer sex ed could look like, and we ' re going to get those know that conversation now. Aaron, I love this so so much. I am ready to get the queer sex adolescents that I missed out on. That is the sparkly attitude reason. Let ' s get to a heads up. This episode is about sex and may not be for everyone. My name is Lili Get us. I ' m a producer and journalist or NPR and this is life. Get like you. I spent a lot more time last year hold up inside my house. I was really bored, so idid it. I downloaded Tick tock I didn ' t know what I find by. I didn ' t want to end up being a millennium fumbling my way through Meghan the Stallion, Savagery Max or Benny, Super Lonely Dan ' s my for your page landed me on Pop Tick tock where I found a fun LGBTQ plus community, something that I really mess from not being able to see friends or go to gay bars. I ' m not sure what the algorithm was getting out when one day and started showing me take talks of clear people getting tips on how to have sex with some with the all that, but there was wondering where was this information when I needed it. It ' s possible you took sex ed years ago, so you may not remember it well, but even if you do, did you come out belowlike you learn much ? I went to school in Texas where the approach to this day requires educators to emphasize abstinence until marriage. And that ' s even if the school chooses to teach about sex. Growing up, sex was talked about as something that exclusively happened between assist man and as this woman. It was all very had our normative Now fast forward a bed. I ' m thinking about having sex for the first time with someone who has a ababa and I ' m excited by. I ' m also nervous wreck because I have no clue what to do. So in an effort to save you from that panic, I present this crash course on how to have better and safer sex regardlessof here and to. The following message comes from NPR sponsor Aspiration After over a decade working in climate action, Andre Czerny started our personal finance company to help people use their dollars as a force for a positive change. Today, a lot of people wanna be part of the fight against climate change, but they don ' t know where to start. And with aspiration were able to give people ways to have easy automated climate impact built into what they ' re already doing every day. Visit aspiration Dotcom today to learn more before we jump into things I wanna say, Don ' t feel bad about wanting to knowmore about sex. We were prepared to succeed in this area, so our first take away is facing the facts. Queer people are intentionally left out of the sex at conversation and the U. S. It ' s a hotly debated topic being taken up by state legislatures right now. As of April first, twenty twenty one states like Alabama, Louisiana, Mississippi, and taxes not only leave LGBTQ plus students out of the conversation, but go as far as stigmatizing their identities through what is often called know promo hama laws. This\n",
      "850 \n",
      "\n",
      "is basically legislation that prohibits and in some cases, penalize as educators if they speak affirmatively about homosexuality.That ' s Chris Harley, President and CEO of Seekers Sex Ed for Social Change, which, as you can imagine, is incredibly devastating for a young person who is clear he and it, you know, creates really unsafe environments for young people. There ' s currently no national mandate for sex education in the US, so depending where you grow up, you may or may not receive a comprehensive sex education. According to Seek as is count, there are thirty five states as still require schools to teach only abstinence until marriage or truly stress abstinence until marriage. There are fifteen states that don ' t require sex education to be even medically accurateevidence base or evidence and informed. And there are nine states that explicitly require that teachers do not speak about homosexuality or LGBTQ individuals in a positive fashion. On the other hand, over twenty five states and the District of Columbia do mandate sex education, and eleven states have policies that requires sex Ed to be inclusive of sexual orientation instead of the current scattered teachings, seekers, facts and more. Inclusive and comprehensive curriculum, which would include education about human anatomy, healthy relationships, balance, prevention and more. This comprehensive kind of education has positive benefits, Hurley says. It ' s prevent a better mental healthoutcomes and reduce suicidal ideation among some query youth. It can also help students understand their clear classmates identities. We do have the research that shows that comprehensive sex education bad affirms and is inclusive of sexual orientation, gender identity and expression can reduce homophobic bullying and harassment. Increases the safety of school environments for LGBTQ young people, but actually for all students instead. An emphasis on abstinence and shame base messaging prevails in many states. That combined with your reserve queer identities and sex education leads lesbian and bisexual used to experience a higher rate of unintended pregnancyis when compared to their heterosexual peers. Instead of shaming people for wanting to embrace her sexuality, Erica Heart says people should receive sex positive messages. Heart his sexuality educator with a focus and racial, social and gender justice. The also teach workshops on creating saber spaces for LGBTQ I A Plus communities and on something called Radical sex positivity Sex positivity to me is the end of a projecting Cs and or of patriarchy on two people, right ? Sex positivity looks looks like actually dealing with the structures that have kept us from experiencing pleasure and moving and awayyea that abolishes them all, Right ? Or second, take away his get to know your body and discover what pleasure feels like to you. So why do we even have sex ? Well, for one reason, Simply put, many of us enjoy the pleasure it gives us right. And one of the best parts about it is that we can access lot of that pleasure on our own. So set the mood just like you might for someone you ' re interested and and have a date night yourself. Explore every inch of your body. I ' m not kidding. If necessary, get a him year to explore these body parts. Young people should know all of their genitals as much as I know had shoulders, knees and toes. They should know penis vulva breast. Amos Herit also has another unique approach. They ' ve assigned students to create three models of anatomy as a way to explore genitalia And it has students really look at some parts of anatomy that oftentimes have not talked about. Like the internal and external sphincter of the. Is. And how they are super sensitive to touch and also have lots of blood vessels. So it ' s important to be sensitive to that area. And there ' s not a lot of conversations around. The. Clutter is. And it ' s only function which is sexual pleasure, and also the internal clutter is. Exploring your anatomy, how it looks, how it feels and how it functions will get you one step closer to understanding your sexual needs. And once it ' s also possible to discover you might knowi have any of those needs or wants. But if you do want to have sex, think about it. You ' ll benefit in more ways than one by accessing pleasure on your own. If you find yourself having sex with someone who has the same genitalia or body parts as you, getting in tune with your body could be a win win scenario. You can discover what you like and possibly even what another person might be. And to. If you want to learn more about pleasure. Like it also has an episode all about it and how right now is the perfect time to explore your body. Will link to it in our episode page. Now. Depending on what your sex history looks like, you may already know some of what you like sexually. Some of it might be informed\n",
      "850 \n",
      "\n",
      "by the messages you ' ve gotten from society. It ' s a matter of just taking and messages that you ' re receiving from the world and seeing asthey are sit or not. And if those messages don ' t apply to you, work on and learning them. Heart says Masturbation is a great tool for figuring out what you do or don ' t like. There are many people who are in relationships live folks live penises that are interested in penetration, right, regardless of their sexual identity. One of the awesome opportunities about being a queer person is that we may not be as entrenched in some of the gender narratives and roles that can be kind of prescriptive around on sexuality. So I think it can be a really amazing opportunity for us to explore our sexuality outside of those norms and patterns. It can also be kind of confusing because it could just be like, Well, what do I do ? Meetsexuality educator Molina, He ' ll gonna Davis, who also goes by their stage name Millionaire Gays They are performer and cofounder and director at Will Gotta based in Mexico City. Expanding and notion of what sex can look like is super important. So what is sex ? Well, to start off, let ' s debunk the obviously false notion that sex only involves a penis inside a vagina and depending on what kind of genitalia and body parts you have and what turns you on. The answer to this question will be different for everybody. That gives us to take away number three. Know that there isn ' t a singular or right way to have sex. Sex can be whatever brings you pleasure. A. MichaelWe ' ve been told it doesn ' t have to necessarily be physical. Either we could have phone sex or like internet related sex were were like having sex across a screen. Where are you know we could be like touching ourselves. Your idea of pleasure is unique, so they encourage you to create a definition for yourself. For me, it would be like pleasure oriented experiences or interactions that involves some sort of arousal. You know that doesn ' t mean that it has to. And an orgasm. This last point is pretty important. Not everyone experiences orgasms and not everybody wants to. I prefer a definition that is inclusive of lots of different body parts and those could be like a diversity ofgenitals or. But it could also be other types of body parts. Like we don ' t just have to have sex with our genitals we can have had sex. On top of that, sex can happen with who ever you want. Human sexuality is very complex and you don ' t need to be tied down to any one thing. There ' s identity and there ' s also behavior and like I could identify as lesbian and still have sex with men if I wanted to, you know. And so I think it ' s important to empower everyone with the information that they need so that they can make decisions with their body and. And not assume that like identities are going to be static forever. If a person claims and identity trust that they know who they are throughout time, you can be from that you are fluid and from that you are not. You can also not knowwho are not feel strongly about your identity. And that ' s also fine. While I found the queer community on tick tock inviting, I also came across a lot of content that didn ' t have from I lived experiences as a queer women. You ' ll find stereotypes and in accurate representations in the media that won ' t necessarily fit your own lived experiences either. So remember, you don ' t have to ascribe to that because sometimes we may see things that look affirming but actually aren ' t. And I would say anything that ' s like trying to police your identity. Beware for me like the biggest tool of media literacy is like is this actually affirming knee and helping any. Or is this making me feel bad ? Once you figure out what doesthe from you, you can choose to throw person into the mix and you can communicate with them some of what you ' ve just learned, but it doesn ' t have to be everything. Erica Heart says, Well, it may feel awkward to communicate these things. You shouldn ' t feel any shame when doing so. If someone makes you feel that way, then maybe it ' s a sign they are ready to have sex with you. So think of it this way. You ' re basically providing another person with your guide book and they should provide you with There ' s. As time goes by, you might get more comfortable sharing more guidelines. Also know that changing the guidelines is fair game. So or for take away.\n",
      "850 \n",
      "\n",
      "His communication should be ongoing with sexual partners to make sure everyone is comfortable and satisfied. Of course, consent is part of this conversation, but it ' s more extentof than you might expect. It ' s necessary that can sit includes what is informed right ? So you are informed about what you were going to be engaging in and can say is also ongoing right ? So even if things are getting hot and heavy, you can stop it any time, right ? And regroup Have a conversation about. Get more specific right ? Specific is another value. Another aspect that has to be included in could say right, I ' m like it when you touch me there. But can you push a little bit harder ? So don ' t be afraid or embarrassed to ask for what you want. It only make the sex that much better and if you ' re in a relationship, it can improve that to. Listening is also necessary if someone says no to particular act, it ' s andport in to respect that. For example, if you want to try anal by your partner isn ' t into it, respect that boundary and move on. Maybe there ' s something else or could try something that you ' re both comfortable with and excited about. Heart. Recommend Scarlett in the US. Know maybe so. A sexual and been Tories stock list. This checklist helps you decide what your boundaries are, what physical and non physical acts you ' re comfortable with, what words of from you and more. You and your partner should go through the list individually. It burst. Then you can compare notes. If that ' s not your jam. Here ' s another way this conversation can look. Think it ' s different for just about anybody were I would say you know, let ' s have a conversation about what feels good forour bodies. You know, I think that would feel good for me, right ? I. Statements are important. This as something that you want to do re is something that you want to engage with me in and from their. Based on the answer that you get negotiating on what that looks like. This communication also needs to progress if you continue pursuing sexual activities with the same person. As we ' ve already mentioned, queer identities are not static bodies and bodily expression can also change. So it ' s good to make sure you and your sexual partners remain comfortable. So maybe this conversation looks something like you asking them if they still like a penis being called that or if they prefer another name for it. If you want to die further into what consent should look like and how to practice it like it has a great epasit on this that you should check out. All right, We ' re at our fifth and final take away. Don ' t let shame or stigma prevent you from caring for your sexual health. Let ' s begin with STDs and as to eyes. We ' ve come a long way in the medical field by Gates says Stigmas have stuck around. What are the misconceptions around as to eyes or studies on either so many. I think the biggest thing is that as to eyes make you dirty, which is just a terrible lie. And also I think the other one is like it. You get in SCI. Your sex life is over it like know most as to eyes or curable are treatable and it doesn ' t have to be like this. Mark of shame using barrier methods like a condom or dental dam can prevent as to eyes and pregnancies but they won ' talways be foolproof So getting tested is another way to be on top of your sexual health testing A super important. I think It ' s also really important to mention that access to testing in the United States is very spotty for a lot of people you know I ' m. People don ' t have health insurance or the. Live really far away from a free clinic and they don ' t have a car. But testing is a really great way to know your own status. Like know where you stand so that you can communicate that with other people. They say it ' s smart to determine where you land on what they ' re called the risk spectrum. So like if we know or risk averse maybe we know that we want to use multiple forms of barrier methods and we also want to limit any sort of fluid exchange. That would mean like I just wantto masturbate next that person or I just I ' m only willing to do have sex with gloves. Or you could be more risk taking, whatever that may look like for you. So how often should you get tested ? Well, there isn ' t a SAP recommendation because everyone '\n",
      "850 \n",
      "\n",
      "s risk assessment looks different. Go to a trusted health care provider and work together to decipher your level of risk. Risk is not a moral judgment. It ' s kind of like a statistical equation, you know, like how many people are you having sex with were What type of safer sex methods are using ? Going to a doctor ' s office can be intimidating for a number of reasons. It might help to find a doctor who understands your needs as a queer person. And if you decide you want to get tested simply for peace of mindjust say I ' d like a full panoply Please. And that way though, know to test for a full range of us to eyes. Finally, sexual health also includes caring for your mental, emotional and physical health. Sexual health is in or sectional. Sexual health is so much more than just as Chad prevention. I think it ' s mental health in relation to gender or sexual identities around the sexual encounters we have. I think sexual health has to do with general bodily well being. We ' re not just individuals right ? Were inserted in structures that go beyond just individual social structures, like racism, like classes, I ' m like able Islam, and those things impact how we have sex. The impact weatherare we feel entitled to our bodies or not. They impact. You know, whether we think our pleasure is important. They also impact the likelihood that we may experience sexual violence. Why is it that black trans women in the United States experience more violence than white sis women ? There ' s an intersection of structural forces and personal experience there that has very real consequences for how people can live out their sexuality or not. Now I know this is a lot to tackle, so how do we do it ? Well, having these conversations is a start. That means talking about sex positive messages, learning about the benefits of comprehensive sex edand understanding the implications of legislation that is seeking to limit health care for trans youth. Again, many of us were equipped to thrive in our sex lives, especially not as queer people. Tick tock or any other social media shouldn ' t be your primary source for sex ed by. I get that We gotta take what we can get. Sometimes. I hope after listening to this you ' re able to feel a little more confident in your sex life. Since we camped at everything into this episode and there are some things I can ' t say on NPR, I ' ve compiled a list of additional resources with the help of our experts, will point you to some links that covers safer sex for trans folks and more on how you can explore your sexuality. Beforewe recap the take away his. I just want to say it ' s going to take time and practice. There may even be times where you ' re still thinking, what the heck am I doing by. Have fun with it. You ' ll get the hang of it. Go black or a. Yeah, Let ' s recap some of what we ' ve just learned Take away number one. Sex ed in the US is severely lacking and not inclusive, that LGBTQ Plus students just like their heterosexual peers, queer people deserve to have sex sex and that means been given the knowledge on how to do it. Take away Never to get comfortable with your body and discover what turned you on or off. Million Gates has one last bit of advice. I think one were looking to explore our sexuality or looking to explore our pleasureor It ' s a really great tool to think of our explorations as like pleasure oriented instead of goal oriented. Most of us have previously been found a narrative that certain body parts are growth or that we shouldn ' t access pleasure by. I think if you give it a chance you ' d just my enjoy it. Take away Number three societies header or normative and patriarchal norms have always try to define what sex can look like, but the truth is there isn ' t a right way to have sex. You get to decide what you want sex to look like for you. Take away number for whether it ' s before, during or after sex. Communication is important. Be upfront about what you want from your sex partner and take away number five. Sexual health is not only limited to our generalall ' s but also our body and mind. Don ' t let shame or stigma prevent you from caring for your sexual health. For more like a check out or other episodes. We have one on how to pick birth control that works for you and another and how to set boundaries with family. You can find these are and PR dot org, Flash like it And if he left Life Cat like I\n",
      "850 \n",
      "\n",
      "do and you want more, subscribe to our newsletter and PR dot org Slashed Life Kit newsletter. And now a completely random tip this time from listener Mark Harris. What will bring me was to my coffee a for and put it in my own in the morning. My our coffeecool you have girl next door. I think my sister Leslie will like that or a If you gotta good tip, leave us a voicemail at two o, two, two, one, six, nine, eight to three or a massive waste memo at Life kit and PR dot org. This episode was produced by my talented and good friend Audrey. One making Kane is the managing producer, Beth Donovan, his senior editor, and this episode was edited by Mallory. You with help from now Clark, Special thanks to Demi Brown and a special apology to my roommate Naomi for racing you about tick tock or digital Editors are back, Harlan and Clara Lombardo and our editorial assistant is Claire Murray Schneider. I ' m really get us. Thanks for listening.I ' m. Yea Shaw, I ' m Kim. Yeah, committees where The host of the MPS podcast Invisible. Yeah, you can think of Invisibility It kind of like a sonic black light. When you switches on, you will hear surprising and intimate stories. Stories that help you notice things in your world that maybe you didn ' t see before. Listen to The Invisibility a podcast from NPR. This message comes from W. N. Y. C. Are you curious about the world but also want to be surprised and even moved each week ? Radio Lab Investigator stories that provoke delight and ask you to completely change the way you view the world. Listen to Radio Lab where ever you get podcasts\n",
      "\n",
      "301 \n",
      "\n"
     ]
    }
   ],
   "source": [
    "# split our transcript into smaller pieces since summerization model in huggingface has lenght limit\n",
    "# 1024 tokens limit \n",
    "split_tokens = transcript.split(\" \")\n",
    "print(len(split_tokens))\n",
    "docs = []\n",
    "\n",
    "for i in range(0, len(split_tokens), 850):\n",
    "    selection = \" \".join(split_tokens[i:(i+850)])\n",
    "    print(selection)\n",
    "    print(len(selection.split(' ')),'\\n')\n",
    "    docs.append(selection)"
   ]
  },
  {
   "cell_type": "code",
   "execution_count": 22,
   "metadata": {
    "id": "go1L3kcXZ8k2"
   },
   "outputs": [],
   "source": [
    "summaries = summarizer(docs)"
   ]
  },
  {
   "cell_type": "code",
   "execution_count": 23,
   "metadata": {
    "colab": {
     "base_uri": "https://localhost:8080/"
    },
    "id": "E8W1zr1adXnM",
    "outputId": "a9337885-aa17-4dd1-fa91-441f8377a79d"
   },
   "outputs": [
    {
     "data": {
      "text/plain": [
       "[{'summary_text': ' There is actually no national mandate for sex ed in the U.S. Most sex ed that does exist leaves out LGBTQ topics are just barely touches on it . There are states where they even require educators to betray topics like homosexuality in a negative one . This episode is about sex and may not be for everyone .'},\n",
       " {'summary_text': ' There are nine states that explicitly require that teachers do not speak about homosexuality or LGBTQ individuals in a positive fashion . Over twenty five states and the District of Columbia do mandate sex education, and eleven states have policies that requires sex Ed to be inclusive of sexual orientation . Erica Heart says people should receive sex positive messages instead of shaming people for wanting to embrace her sexuality .'},\n",
       " {'summary_text': \" Erica Heart says there isn't a singular or right way to have sex . Masturbation is a great tool for figuring out what you do or don't like . Heart says sex can happen with who ever you want to have it . Erica Heart: Human sexuality is very complex and you don 't need to be tied down to any one thing .\"},\n",
       " {'summary_text': \" Don 't let shame or stigma prevent you from caring for your sexual health . Don't be afraid or embarrassed to ask for what you want to do . Listening is also necessary if someone says no to particular act, it 's andport in to respect that . Getting tested is a great way to know your own status so that you can communicate that with other people .\"},\n",
       " {'summary_text': ' Sex ed in the US is severely lacking and not inclusive, that LGBTQ Plus students just like their heterosexual peers, queer people deserve to have sex sex sex and that means been given the knowledge on how to do it . Million Gates: Never to get comfortable with your body and discover what turned you on or off .'},\n",
       " {'summary_text': ' This episode was produced by Audrey Kane, Beth Donovan and Mallory Kane . The host of the MPS podcast Invisible . Listen to The Invisibility a podcast from NPR. Listen to Radio Lab where ever you get podcasts. do and you want more, subscribe to our newsletter and PR dot org .'}]"
      ]
     },
     "execution_count": 23,
     "metadata": {},
     "output_type": "execute_result"
    }
   ],
   "source": [
    "summaries"
   ]
  },
  {
   "cell_type": "code",
   "execution_count": 24,
   "metadata": {
    "id": "8DZU2ZmGbFkk"
   },
   "outputs": [],
   "source": [
    "summary = \"\\n\\n\".join([d[\"summary_text\"] for d in summaries])"
   ]
  },
  {
   "cell_type": "code",
   "execution_count": 25,
   "metadata": {
    "colab": {
     "base_uri": "https://localhost:8080/"
    },
    "id": "G3xbLFOSbK6u",
    "outputId": "97cae0b7-c0d0-4075-ea95-4dff01e2927b"
   },
   "outputs": [
    {
     "name": "stdout",
     "output_type": "stream",
     "text": [
      " There is actually no national mandate for sex ed in the U.S. Most sex ed that does exist leaves out LGBTQ topics are just barely touches on it . There are states where they even require educators to betray topics like homosexuality in a negative one . This episode is about sex and may not be for everyone .\n",
      "\n",
      " There are nine states that explicitly require that teachers do not speak about homosexuality or LGBTQ individuals in a positive fashion . Over twenty five states and the District of Columbia do mandate sex education, and eleven states have policies that requires sex Ed to be inclusive of sexual orientation . Erica Heart says people should receive sex positive messages instead of shaming people for wanting to embrace her sexuality .\n",
      "\n",
      " Erica Heart says there isn't a singular or right way to have sex . Masturbation is a great tool for figuring out what you do or don't like . Heart says sex can happen with who ever you want to have it . Erica Heart: Human sexuality is very complex and you don 't need to be tied down to any one thing .\n",
      "\n",
      " Don 't let shame or stigma prevent you from caring for your sexual health . Don't be afraid or embarrassed to ask for what you want to do . Listening is also necessary if someone says no to particular act, it 's andport in to respect that . Getting tested is a great way to know your own status so that you can communicate that with other people .\n",
      "\n",
      " Sex ed in the US is severely lacking and not inclusive, that LGBTQ Plus students just like their heterosexual peers, queer people deserve to have sex sex sex and that means been given the knowledge on how to do it . Million Gates: Never to get comfortable with your body and discover what turned you on or off .\n",
      "\n",
      " This episode was produced by Audrey Kane, Beth Donovan and Mallory Kane . The host of the MPS podcast Invisible . Listen to The Invisibility a podcast from NPR. Listen to Radio Lab where ever you get podcasts. do and you want more, subscribe to our newsletter and PR dot org .\n"
     ]
    }
   ],
   "source": [
    "print(summary)"
   ]
  },
  {
   "cell_type": "code",
   "execution_count": null,
   "metadata": {},
   "outputs": [],
   "source": []
  },
  {
   "cell_type": "code",
   "execution_count": null,
   "metadata": {},
   "outputs": [],
   "source": []
  },
  {
   "cell_type": "code",
   "execution_count": 2,
   "metadata": {},
   "outputs": [
    {
     "name": "stdout",
     "output_type": "stream",
     "text": [
      "\u001b[33mWarning:\u001b[0m portaudio 19.7.0 is already installed and up-to-date.\n",
      "To reinstall 19.7.0, run:\n",
      "  brew reinstall portaudio\n"
     ]
    }
   ],
   "source": [
    "!brew install portaudio"
   ]
  },
  {
   "cell_type": "code",
   "execution_count": 21,
   "metadata": {},
   "outputs": [
    {
     "name": "stdout",
     "output_type": "stream",
     "text": [
      "\u001b[33mWARNING: Disabling all use of wheels due to the use of --build-option / --global-option / --install-option.\u001b[0m\u001b[33m\n",
      "\u001b[0mRequirement already satisfied: pyaudio in /Users/moonqj/miniforge3/envs/m1/lib/python3.8/site-packages (0.2.11)\n"
     ]
    }
   ],
   "source": [
    "# !python3 -m pip install pyaudio --global-option=\"build_ext\" --global-option=\"-I/opt/homebrew/include\" --global-option=\"-L/opt/homebrew/lib\"\n",
    "\n",
    "!python -m pip install --global-option='build_ext' --global-option='-I/opt/homebrew/Cellar/portaudio/19.7.0/include' --global-option='-L/opt/homebrew/Cellar/portaudio/19.7.0/lib' pyaudio\n"
   ]
  },
  {
   "cell_type": "code",
   "execution_count": null,
   "metadata": {},
   "outputs": [],
   "source": []
  }
 ],
 "metadata": {
  "colab": {
   "name": "Voice_Recognition.ipynb",
   "provenance": [],
   "toc_visible": true
  },
  "kernelspec": {
   "display_name": "Python 3 (ipykernel)",
   "language": "python",
   "name": "python3"
  },
  "language_info": {
   "codemirror_mode": {
    "name": "ipython",
    "version": 3
   },
   "file_extension": ".py",
   "mimetype": "text/x-python",
   "name": "python",
   "nbconvert_exporter": "python",
   "pygments_lexer": "ipython3",
   "version": "3.8.12"
  },
  "toc-autonumbering": false,
  "toc-showcode": false,
  "widgets": {
   "application/vnd.jupyter.widget-state+json": {
    "075b15ab81154c2486e1d1ddd9a9a35c": {
     "model_module": "@jupyter-widgets/controls",
     "model_module_version": "1.5.0",
     "model_name": "FloatProgressModel",
     "state": {
      "_dom_classes": [],
      "_model_module": "@jupyter-widgets/controls",
      "_model_module_version": "1.5.0",
      "_model_name": "FloatProgressModel",
      "_view_count": null,
      "_view_module": "@jupyter-widgets/controls",
      "_view_module_version": "1.5.0",
      "_view_name": "ProgressView",
      "bar_style": "success",
      "description": "",
      "description_tooltip": null,
      "layout": "IPY_MODEL_809a818306744de4b727c7200c102222",
      "max": 456318,
      "min": 0,
      "orientation": "horizontal",
      "style": "IPY_MODEL_53792ee96068489c8ee02c82448bca94",
      "value": 456318
     }
    },
    "10fc5b2b06904117b6eca20b43cff8cb": {
     "model_module": "@jupyter-widgets/controls",
     "model_module_version": "1.5.0",
     "model_name": "ProgressStyleModel",
     "state": {
      "_model_module": "@jupyter-widgets/controls",
      "_model_module_version": "1.5.0",
      "_model_name": "ProgressStyleModel",
      "_view_count": null,
      "_view_module": "@jupyter-widgets/base",
      "_view_module_version": "1.2.0",
      "_view_name": "StyleView",
      "bar_color": null,
      "description_width": ""
     }
    },
    "11018141d36e409db77cca5f28cf8a44": {
     "model_module": "@jupyter-widgets/controls",
     "model_module_version": "1.5.0",
     "model_name": "FloatProgressModel",
     "state": {
      "_dom_classes": [],
      "_model_module": "@jupyter-widgets/controls",
      "_model_module_version": "1.5.0",
      "_model_name": "FloatProgressModel",
      "_view_count": null,
      "_view_module": "@jupyter-widgets/controls",
      "_view_module_version": "1.5.0",
      "_view_name": "ProgressView",
      "bar_style": "success",
      "description": "",
      "description_tooltip": null,
      "layout": "IPY_MODEL_3f9a62b6d381442b847649190bd0746d",
      "max": 898822,
      "min": 0,
      "orientation": "horizontal",
      "style": "IPY_MODEL_fb05ffaeee9f45c5ba76744b481908bf",
      "value": 898822
     }
    },
    "1421e183f08841a1b8dc46e0051aea7a": {
     "model_module": "@jupyter-widgets/base",
     "model_module_version": "1.2.0",
     "model_name": "LayoutModel",
     "state": {
      "_model_module": "@jupyter-widgets/base",
      "_model_module_version": "1.2.0",
      "_model_name": "LayoutModel",
      "_view_count": null,
      "_view_module": "@jupyter-widgets/base",
      "_view_module_version": "1.2.0",
      "_view_name": "LayoutView",
      "align_content": null,
      "align_items": null,
      "align_self": null,
      "border": null,
      "bottom": null,
      "display": null,
      "flex": null,
      "flex_flow": null,
      "grid_area": null,
      "grid_auto_columns": null,
      "grid_auto_flow": null,
      "grid_auto_rows": null,
      "grid_column": null,
      "grid_gap": null,
      "grid_row": null,
      "grid_template_areas": null,
      "grid_template_columns": null,
      "grid_template_rows": null,
      "height": null,
      "justify_content": null,
      "justify_items": null,
      "left": null,
      "margin": null,
      "max_height": null,
      "max_width": null,
      "min_height": null,
      "min_width": null,
      "object_fit": null,
      "object_position": null,
      "order": null,
      "overflow": null,
      "overflow_x": null,
      "overflow_y": null,
      "padding": null,
      "right": null,
      "top": null,
      "visibility": null,
      "width": null
     }
    },
    "15190059ed5a4ba4beb74af17bfde0db": {
     "model_module": "@jupyter-widgets/controls",
     "model_module_version": "1.5.0",
     "model_name": "HBoxModel",
     "state": {
      "_dom_classes": [],
      "_model_module": "@jupyter-widgets/controls",
      "_model_module_version": "1.5.0",
      "_model_name": "HBoxModel",
      "_view_count": null,
      "_view_module": "@jupyter-widgets/controls",
      "_view_module_version": "1.5.0",
      "_view_name": "HBoxView",
      "box_style": "",
      "children": [
       "IPY_MODEL_99d7a163cfe04b4eb687c8680e84870a",
       "IPY_MODEL_adc6bace673742a1bcc6b8182d5b78de",
       "IPY_MODEL_f3ad446452614449ba3e1ee153c44822"
      ],
      "layout": "IPY_MODEL_336046e071d54db29a613d558ee3025f"
     }
    },
    "166617667eb6450a8c5007524d72bfc5": {
     "model_module": "@jupyter-widgets/controls",
     "model_module_version": "1.5.0",
     "model_name": "ProgressStyleModel",
     "state": {
      "_model_module": "@jupyter-widgets/controls",
      "_model_module_version": "1.5.0",
      "_model_name": "ProgressStyleModel",
      "_view_count": null,
      "_view_module": "@jupyter-widgets/base",
      "_view_module_version": "1.2.0",
      "_view_name": "StyleView",
      "bar_color": null,
      "description_width": ""
     }
    },
    "1cd348feb8884ad997576994d5934a53": {
     "model_module": "@jupyter-widgets/base",
     "model_module_version": "1.2.0",
     "model_name": "LayoutModel",
     "state": {
      "_model_module": "@jupyter-widgets/base",
      "_model_module_version": "1.2.0",
      "_model_name": "LayoutModel",
      "_view_count": null,
      "_view_module": "@jupyter-widgets/base",
      "_view_module_version": "1.2.0",
      "_view_name": "LayoutView",
      "align_content": null,
      "align_items": null,
      "align_self": null,
      "border": null,
      "bottom": null,
      "display": null,
      "flex": null,
      "flex_flow": null,
      "grid_area": null,
      "grid_auto_columns": null,
      "grid_auto_flow": null,
      "grid_auto_rows": null,
      "grid_column": null,
      "grid_gap": null,
      "grid_row": null,
      "grid_template_areas": null,
      "grid_template_columns": null,
      "grid_template_rows": null,
      "height": null,
      "justify_content": null,
      "justify_items": null,
      "left": null,
      "margin": null,
      "max_height": null,
      "max_width": null,
      "min_height": null,
      "min_width": null,
      "object_fit": null,
      "object_position": null,
      "order": null,
      "overflow": null,
      "overflow_x": null,
      "overflow_y": null,
      "padding": null,
      "right": null,
      "top": null,
      "visibility": null,
      "width": null
     }
    },
    "25f8406e52d94587a69d3b2ab56f6561": {
     "model_module": "@jupyter-widgets/base",
     "model_module_version": "1.2.0",
     "model_name": "LayoutModel",
     "state": {
      "_model_module": "@jupyter-widgets/base",
      "_model_module_version": "1.2.0",
      "_model_name": "LayoutModel",
      "_view_count": null,
      "_view_module": "@jupyter-widgets/base",
      "_view_module_version": "1.2.0",
      "_view_name": "LayoutView",
      "align_content": null,
      "align_items": null,
      "align_self": null,
      "border": null,
      "bottom": null,
      "display": null,
      "flex": null,
      "flex_flow": null,
      "grid_area": null,
      "grid_auto_columns": null,
      "grid_auto_flow": null,
      "grid_auto_rows": null,
      "grid_column": null,
      "grid_gap": null,
      "grid_row": null,
      "grid_template_areas": null,
      "grid_template_columns": null,
      "grid_template_rows": null,
      "height": null,
      "justify_content": null,
      "justify_items": null,
      "left": null,
      "margin": null,
      "max_height": null,
      "max_width": null,
      "min_height": null,
      "min_width": null,
      "object_fit": null,
      "object_position": null,
      "order": null,
      "overflow": null,
      "overflow_x": null,
      "overflow_y": null,
      "padding": null,
      "right": null,
      "top": null,
      "visibility": null,
      "width": null
     }
    },
    "2a4781cc3fb6491aa670712c75aae495": {
     "model_module": "@jupyter-widgets/controls",
     "model_module_version": "1.5.0",
     "model_name": "HTMLModel",
     "state": {
      "_dom_classes": [],
      "_model_module": "@jupyter-widgets/controls",
      "_model_module_version": "1.5.0",
      "_model_name": "HTMLModel",
      "_view_count": null,
      "_view_module": "@jupyter-widgets/controls",
      "_view_module_version": "1.5.0",
      "_view_name": "HTMLView",
      "description": "",
      "description_tooltip": null,
      "layout": "IPY_MODEL_e3397b6fd6ab4c97b2f4b57781175381",
      "placeholder": "​",
      "style": "IPY_MODEL_e0c5befd6735457abeda9ba12d13fb6b",
      "value": " 26.0/26.0 [00:00&lt;00:00, 44.1B/s]"
     }
    },
    "2ae82b753c7943b8ad6649e3f5a632f5": {
     "model_module": "@jupyter-widgets/controls",
     "model_module_version": "1.5.0",
     "model_name": "FloatProgressModel",
     "state": {
      "_dom_classes": [],
      "_model_module": "@jupyter-widgets/controls",
      "_model_module_version": "1.5.0",
      "_model_name": "FloatProgressModel",
      "_view_count": null,
      "_view_module": "@jupyter-widgets/controls",
      "_view_module_version": "1.5.0",
      "_view_name": "ProgressView",
      "bar_style": "success",
      "description": "",
      "description_tooltip": null,
      "layout": "IPY_MODEL_d2302b20f614452f9084567a9909e390",
      "max": 1802,
      "min": 0,
      "orientation": "horizontal",
      "style": "IPY_MODEL_166617667eb6450a8c5007524d72bfc5",
      "value": 1802
     }
    },
    "2b4d6604472d493abf93042eb1153ff0": {
     "model_module": "@jupyter-widgets/controls",
     "model_module_version": "1.5.0",
     "model_name": "DescriptionStyleModel",
     "state": {
      "_model_module": "@jupyter-widgets/controls",
      "_model_module_version": "1.5.0",
      "_model_name": "DescriptionStyleModel",
      "_view_count": null,
      "_view_module": "@jupyter-widgets/base",
      "_view_module_version": "1.2.0",
      "_view_name": "StyleView",
      "description_width": ""
     }
    },
    "2c452cb9765045c6a856ce1c3c812bfb": {
     "model_module": "@jupyter-widgets/base",
     "model_module_version": "1.2.0",
     "model_name": "LayoutModel",
     "state": {
      "_model_module": "@jupyter-widgets/base",
      "_model_module_version": "1.2.0",
      "_model_name": "LayoutModel",
      "_view_count": null,
      "_view_module": "@jupyter-widgets/base",
      "_view_module_version": "1.2.0",
      "_view_name": "LayoutView",
      "align_content": null,
      "align_items": null,
      "align_self": null,
      "border": null,
      "bottom": null,
      "display": null,
      "flex": null,
      "flex_flow": null,
      "grid_area": null,
      "grid_auto_columns": null,
      "grid_auto_flow": null,
      "grid_auto_rows": null,
      "grid_column": null,
      "grid_gap": null,
      "grid_row": null,
      "grid_template_areas": null,
      "grid_template_columns": null,
      "grid_template_rows": null,
      "height": null,
      "justify_content": null,
      "justify_items": null,
      "left": null,
      "margin": null,
      "max_height": null,
      "max_width": null,
      "min_height": null,
      "min_width": null,
      "object_fit": null,
      "object_position": null,
      "order": null,
      "overflow": null,
      "overflow_x": null,
      "overflow_y": null,
      "padding": null,
      "right": null,
      "top": null,
      "visibility": null,
      "width": null
     }
    },
    "31e784d1c2f94eb7a53ca9e41f2655d3": {
     "model_module": "@jupyter-widgets/controls",
     "model_module_version": "1.5.0",
     "model_name": "FloatProgressModel",
     "state": {
      "_dom_classes": [],
      "_model_module": "@jupyter-widgets/controls",
      "_model_module_version": "1.5.0",
      "_model_name": "FloatProgressModel",
      "_view_count": null,
      "_view_module": "@jupyter-widgets/controls",
      "_view_module_version": "1.5.0",
      "_view_name": "ProgressView",
      "bar_style": "success",
      "description": "",
      "description_tooltip": null,
      "layout": "IPY_MODEL_5105e2d682ec467690ddffe63c6a037b",
      "max": 26,
      "min": 0,
      "orientation": "horizontal",
      "style": "IPY_MODEL_7a576b52de744c6cb3c00c4c8fed3178",
      "value": 26
     }
    },
    "336046e071d54db29a613d558ee3025f": {
     "model_module": "@jupyter-widgets/base",
     "model_module_version": "1.2.0",
     "model_name": "LayoutModel",
     "state": {
      "_model_module": "@jupyter-widgets/base",
      "_model_module_version": "1.2.0",
      "_model_name": "LayoutModel",
      "_view_count": null,
      "_view_module": "@jupyter-widgets/base",
      "_view_module_version": "1.2.0",
      "_view_name": "LayoutView",
      "align_content": null,
      "align_items": null,
      "align_self": null,
      "border": null,
      "bottom": null,
      "display": null,
      "flex": null,
      "flex_flow": null,
      "grid_area": null,
      "grid_auto_columns": null,
      "grid_auto_flow": null,
      "grid_auto_rows": null,
      "grid_column": null,
      "grid_gap": null,
      "grid_row": null,
      "grid_template_areas": null,
      "grid_template_columns": null,
      "grid_template_rows": null,
      "height": null,
      "justify_content": null,
      "justify_items": null,
      "left": null,
      "margin": null,
      "max_height": null,
      "max_width": null,
      "min_height": null,
      "min_width": null,
      "object_fit": null,
      "object_position": null,
      "order": null,
      "overflow": null,
      "overflow_x": null,
      "overflow_y": null,
      "padding": null,
      "right": null,
      "top": null,
      "visibility": null,
      "width": null
     }
    },
    "3a73ae19141642d5a94f106696739a54": {
     "model_module": "@jupyter-widgets/controls",
     "model_module_version": "1.5.0",
     "model_name": "HBoxModel",
     "state": {
      "_dom_classes": [],
      "_model_module": "@jupyter-widgets/controls",
      "_model_module_version": "1.5.0",
      "_model_name": "HBoxModel",
      "_view_count": null,
      "_view_module": "@jupyter-widgets/controls",
      "_view_module_version": "1.5.0",
      "_view_name": "HBoxView",
      "box_style": "",
      "children": [
       "IPY_MODEL_98cb64ba5da142a1a81e7b79afbac4e9",
       "IPY_MODEL_2ae82b753c7943b8ad6649e3f5a632f5",
       "IPY_MODEL_eefb701cc9f2411e922f56697bb0c523"
      ],
      "layout": "IPY_MODEL_e5a04ea4c2d844eca70d890852523301"
     }
    },
    "3f9a62b6d381442b847649190bd0746d": {
     "model_module": "@jupyter-widgets/base",
     "model_module_version": "1.2.0",
     "model_name": "LayoutModel",
     "state": {
      "_model_module": "@jupyter-widgets/base",
      "_model_module_version": "1.2.0",
      "_model_name": "LayoutModel",
      "_view_count": null,
      "_view_module": "@jupyter-widgets/base",
      "_view_module_version": "1.2.0",
      "_view_name": "LayoutView",
      "align_content": null,
      "align_items": null,
      "align_self": null,
      "border": null,
      "bottom": null,
      "display": null,
      "flex": null,
      "flex_flow": null,
      "grid_area": null,
      "grid_auto_columns": null,
      "grid_auto_flow": null,
      "grid_auto_rows": null,
      "grid_column": null,
      "grid_gap": null,
      "grid_row": null,
      "grid_template_areas": null,
      "grid_template_columns": null,
      "grid_template_rows": null,
      "height": null,
      "justify_content": null,
      "justify_items": null,
      "left": null,
      "margin": null,
      "max_height": null,
      "max_width": null,
      "min_height": null,
      "min_width": null,
      "object_fit": null,
      "object_position": null,
      "order": null,
      "overflow": null,
      "overflow_x": null,
      "overflow_y": null,
      "padding": null,
      "right": null,
      "top": null,
      "visibility": null,
      "width": null
     }
    },
    "4a4c4a1e6790415faf786e18a5df3c2c": {
     "model_module": "@jupyter-widgets/controls",
     "model_module_version": "1.5.0",
     "model_name": "DescriptionStyleModel",
     "state": {
      "_model_module": "@jupyter-widgets/controls",
      "_model_module_version": "1.5.0",
      "_model_name": "DescriptionStyleModel",
      "_view_count": null,
      "_view_module": "@jupyter-widgets/base",
      "_view_module_version": "1.2.0",
      "_view_name": "StyleView",
      "description_width": ""
     }
    },
    "5105e2d682ec467690ddffe63c6a037b": {
     "model_module": "@jupyter-widgets/base",
     "model_module_version": "1.2.0",
     "model_name": "LayoutModel",
     "state": {
      "_model_module": "@jupyter-widgets/base",
      "_model_module_version": "1.2.0",
      "_model_name": "LayoutModel",
      "_view_count": null,
      "_view_module": "@jupyter-widgets/base",
      "_view_module_version": "1.2.0",
      "_view_name": "LayoutView",
      "align_content": null,
      "align_items": null,
      "align_self": null,
      "border": null,
      "bottom": null,
      "display": null,
      "flex": null,
      "flex_flow": null,
      "grid_area": null,
      "grid_auto_columns": null,
      "grid_auto_flow": null,
      "grid_auto_rows": null,
      "grid_column": null,
      "grid_gap": null,
      "grid_row": null,
      "grid_template_areas": null,
      "grid_template_columns": null,
      "grid_template_rows": null,
      "height": null,
      "justify_content": null,
      "justify_items": null,
      "left": null,
      "margin": null,
      "max_height": null,
      "max_width": null,
      "min_height": null,
      "min_width": null,
      "object_fit": null,
      "object_position": null,
      "order": null,
      "overflow": null,
      "overflow_x": null,
      "overflow_y": null,
      "padding": null,
      "right": null,
      "top": null,
      "visibility": null,
      "width": null
     }
    },
    "53792ee96068489c8ee02c82448bca94": {
     "model_module": "@jupyter-widgets/controls",
     "model_module_version": "1.5.0",
     "model_name": "ProgressStyleModel",
     "state": {
      "_model_module": "@jupyter-widgets/controls",
      "_model_module_version": "1.5.0",
      "_model_name": "ProgressStyleModel",
      "_view_count": null,
      "_view_module": "@jupyter-widgets/base",
      "_view_module_version": "1.2.0",
      "_view_name": "StyleView",
      "bar_color": null,
      "description_width": ""
     }
    },
    "6fd5d5c2f3bc48a5be774c3f2c05db67": {
     "model_module": "@jupyter-widgets/controls",
     "model_module_version": "1.5.0",
     "model_name": "DescriptionStyleModel",
     "state": {
      "_model_module": "@jupyter-widgets/controls",
      "_model_module_version": "1.5.0",
      "_model_name": "DescriptionStyleModel",
      "_view_count": null,
      "_view_module": "@jupyter-widgets/base",
      "_view_module_version": "1.2.0",
      "_view_name": "StyleView",
      "description_width": ""
     }
    },
    "7312b7abdacf447394e41cb479c539c7": {
     "model_module": "@jupyter-widgets/base",
     "model_module_version": "1.2.0",
     "model_name": "LayoutModel",
     "state": {
      "_model_module": "@jupyter-widgets/base",
      "_model_module_version": "1.2.0",
      "_model_name": "LayoutModel",
      "_view_count": null,
      "_view_module": "@jupyter-widgets/base",
      "_view_module_version": "1.2.0",
      "_view_name": "LayoutView",
      "align_content": null,
      "align_items": null,
      "align_self": null,
      "border": null,
      "bottom": null,
      "display": null,
      "flex": null,
      "flex_flow": null,
      "grid_area": null,
      "grid_auto_columns": null,
      "grid_auto_flow": null,
      "grid_auto_rows": null,
      "grid_column": null,
      "grid_gap": null,
      "grid_row": null,
      "grid_template_areas": null,
      "grid_template_columns": null,
      "grid_template_rows": null,
      "height": null,
      "justify_content": null,
      "justify_items": null,
      "left": null,
      "margin": null,
      "max_height": null,
      "max_width": null,
      "min_height": null,
      "min_width": null,
      "object_fit": null,
      "object_position": null,
      "order": null,
      "overflow": null,
      "overflow_x": null,
      "overflow_y": null,
      "padding": null,
      "right": null,
      "top": null,
      "visibility": null,
      "width": null
     }
    },
    "79830ff9b9e144bb9f9d116e2880fcbf": {
     "model_module": "@jupyter-widgets/controls",
     "model_module_version": "1.5.0",
     "model_name": "DescriptionStyleModel",
     "state": {
      "_model_module": "@jupyter-widgets/controls",
      "_model_module_version": "1.5.0",
      "_model_name": "DescriptionStyleModel",
      "_view_count": null,
      "_view_module": "@jupyter-widgets/base",
      "_view_module_version": "1.2.0",
      "_view_name": "StyleView",
      "description_width": ""
     }
    },
    "7a576b52de744c6cb3c00c4c8fed3178": {
     "model_module": "@jupyter-widgets/controls",
     "model_module_version": "1.5.0",
     "model_name": "ProgressStyleModel",
     "state": {
      "_model_module": "@jupyter-widgets/controls",
      "_model_module_version": "1.5.0",
      "_model_name": "ProgressStyleModel",
      "_view_count": null,
      "_view_module": "@jupyter-widgets/base",
      "_view_module_version": "1.2.0",
      "_view_name": "StyleView",
      "bar_color": null,
      "description_width": ""
     }
    },
    "8024ff61c5014e209c31b893bca3c443": {
     "model_module": "@jupyter-widgets/base",
     "model_module_version": "1.2.0",
     "model_name": "LayoutModel",
     "state": {
      "_model_module": "@jupyter-widgets/base",
      "_model_module_version": "1.2.0",
      "_model_name": "LayoutModel",
      "_view_count": null,
      "_view_module": "@jupyter-widgets/base",
      "_view_module_version": "1.2.0",
      "_view_name": "LayoutView",
      "align_content": null,
      "align_items": null,
      "align_self": null,
      "border": null,
      "bottom": null,
      "display": null,
      "flex": null,
      "flex_flow": null,
      "grid_area": null,
      "grid_auto_columns": null,
      "grid_auto_flow": null,
      "grid_auto_rows": null,
      "grid_column": null,
      "grid_gap": null,
      "grid_row": null,
      "grid_template_areas": null,
      "grid_template_columns": null,
      "grid_template_rows": null,
      "height": null,
      "justify_content": null,
      "justify_items": null,
      "left": null,
      "margin": null,
      "max_height": null,
      "max_width": null,
      "min_height": null,
      "min_width": null,
      "object_fit": null,
      "object_position": null,
      "order": null,
      "overflow": null,
      "overflow_x": null,
      "overflow_y": null,
      "padding": null,
      "right": null,
      "top": null,
      "visibility": null,
      "width": null
     }
    },
    "809a818306744de4b727c7200c102222": {
     "model_module": "@jupyter-widgets/base",
     "model_module_version": "1.2.0",
     "model_name": "LayoutModel",
     "state": {
      "_model_module": "@jupyter-widgets/base",
      "_model_module_version": "1.2.0",
      "_model_name": "LayoutModel",
      "_view_count": null,
      "_view_module": "@jupyter-widgets/base",
      "_view_module_version": "1.2.0",
      "_view_name": "LayoutView",
      "align_content": null,
      "align_items": null,
      "align_self": null,
      "border": null,
      "bottom": null,
      "display": null,
      "flex": null,
      "flex_flow": null,
      "grid_area": null,
      "grid_auto_columns": null,
      "grid_auto_flow": null,
      "grid_auto_rows": null,
      "grid_column": null,
      "grid_gap": null,
      "grid_row": null,
      "grid_template_areas": null,
      "grid_template_columns": null,
      "grid_template_rows": null,
      "height": null,
      "justify_content": null,
      "justify_items": null,
      "left": null,
      "margin": null,
      "max_height": null,
      "max_width": null,
      "min_height": null,
      "min_width": null,
      "object_fit": null,
      "object_position": null,
      "order": null,
      "overflow": null,
      "overflow_x": null,
      "overflow_y": null,
      "padding": null,
      "right": null,
      "top": null,
      "visibility": null,
      "width": null
     }
    },
    "82bcb73038974633855ee25c8029a292": {
     "model_module": "@jupyter-widgets/controls",
     "model_module_version": "1.5.0",
     "model_name": "HBoxModel",
     "state": {
      "_dom_classes": [],
      "_model_module": "@jupyter-widgets/controls",
      "_model_module_version": "1.5.0",
      "_model_name": "HBoxModel",
      "_view_count": null,
      "_view_module": "@jupyter-widgets/controls",
      "_view_module_version": "1.5.0",
      "_view_name": "HBoxView",
      "box_style": "",
      "children": [
       "IPY_MODEL_d890fea6fae04e5494565d0ddec9ba09",
       "IPY_MODEL_31e784d1c2f94eb7a53ca9e41f2655d3",
       "IPY_MODEL_2a4781cc3fb6491aa670712c75aae495"
      ],
      "layout": "IPY_MODEL_7312b7abdacf447394e41cb479c539c7"
     }
    },
    "8ede83fed2a849898cd795eb1ee3f5d9": {
     "model_module": "@jupyter-widgets/base",
     "model_module_version": "1.2.0",
     "model_name": "LayoutModel",
     "state": {
      "_model_module": "@jupyter-widgets/base",
      "_model_module_version": "1.2.0",
      "_model_name": "LayoutModel",
      "_view_count": null,
      "_view_module": "@jupyter-widgets/base",
      "_view_module_version": "1.2.0",
      "_view_name": "LayoutView",
      "align_content": null,
      "align_items": null,
      "align_self": null,
      "border": null,
      "bottom": null,
      "display": null,
      "flex": null,
      "flex_flow": null,
      "grid_area": null,
      "grid_auto_columns": null,
      "grid_auto_flow": null,
      "grid_auto_rows": null,
      "grid_column": null,
      "grid_gap": null,
      "grid_row": null,
      "grid_template_areas": null,
      "grid_template_columns": null,
      "grid_template_rows": null,
      "height": null,
      "justify_content": null,
      "justify_items": null,
      "left": null,
      "margin": null,
      "max_height": null,
      "max_width": null,
      "min_height": null,
      "min_width": null,
      "object_fit": null,
      "object_position": null,
      "order": null,
      "overflow": null,
      "overflow_x": null,
      "overflow_y": null,
      "padding": null,
      "right": null,
      "top": null,
      "visibility": null,
      "width": null
     }
    },
    "9108ea1eb4f74d66beafaad259796840": {
     "model_module": "@jupyter-widgets/controls",
     "model_module_version": "1.5.0",
     "model_name": "DescriptionStyleModel",
     "state": {
      "_model_module": "@jupyter-widgets/controls",
      "_model_module_version": "1.5.0",
      "_model_name": "DescriptionStyleModel",
      "_view_count": null,
      "_view_module": "@jupyter-widgets/base",
      "_view_module_version": "1.2.0",
      "_view_name": "StyleView",
      "description_width": ""
     }
    },
    "96228c45902a469ca8a7d5b1be5ddbba": {
     "model_module": "@jupyter-widgets/controls",
     "model_module_version": "1.5.0",
     "model_name": "HTMLModel",
     "state": {
      "_dom_classes": [],
      "_model_module": "@jupyter-widgets/controls",
      "_model_module_version": "1.5.0",
      "_model_name": "HTMLModel",
      "_view_count": null,
      "_view_module": "@jupyter-widgets/controls",
      "_view_module_version": "1.5.0",
      "_view_name": "HTMLView",
      "description": "",
      "description_tooltip": null,
      "layout": "IPY_MODEL_ef76c2b047da4ed3a9d02925015fcf74",
      "placeholder": "​",
      "style": "IPY_MODEL_cd510f88df5b42c3bee2ef8e675c8ba4",
      "value": "Downloading: 100%"
     }
    },
    "98cb64ba5da142a1a81e7b79afbac4e9": {
     "model_module": "@jupyter-widgets/controls",
     "model_module_version": "1.5.0",
     "model_name": "HTMLModel",
     "state": {
      "_dom_classes": [],
      "_model_module": "@jupyter-widgets/controls",
      "_model_module_version": "1.5.0",
      "_model_name": "HTMLModel",
      "_view_count": null,
      "_view_module": "@jupyter-widgets/controls",
      "_view_module_version": "1.5.0",
      "_view_name": "HTMLView",
      "description": "",
      "description_tooltip": null,
      "layout": "IPY_MODEL_c758f7c6c13745a8939f24114d8bfb02",
      "placeholder": "​",
      "style": "IPY_MODEL_4a4c4a1e6790415faf786e18a5df3c2c",
      "value": "Downloading: 100%"
     }
    },
    "99d7a163cfe04b4eb687c8680e84870a": {
     "model_module": "@jupyter-widgets/controls",
     "model_module_version": "1.5.0",
     "model_name": "HTMLModel",
     "state": {
      "_dom_classes": [],
      "_model_module": "@jupyter-widgets/controls",
      "_model_module_version": "1.5.0",
      "_model_name": "HTMLModel",
      "_view_count": null,
      "_view_module": "@jupyter-widgets/controls",
      "_view_module_version": "1.5.0",
      "_view_name": "HTMLView",
      "description": "",
      "description_tooltip": null,
      "layout": "IPY_MODEL_8ede83fed2a849898cd795eb1ee3f5d9",
      "placeholder": "​",
      "style": "IPY_MODEL_cab5b9ee0a7240e68625bb648f5929bf",
      "value": "Downloading: 100%"
     }
    },
    "a37034c10ed74e3aaf6ce13711f160b9": {
     "model_module": "@jupyter-widgets/controls",
     "model_module_version": "1.5.0",
     "model_name": "HBoxModel",
     "state": {
      "_dom_classes": [],
      "_model_module": "@jupyter-widgets/controls",
      "_model_module_version": "1.5.0",
      "_model_name": "HBoxModel",
      "_view_count": null,
      "_view_module": "@jupyter-widgets/controls",
      "_view_module_version": "1.5.0",
      "_view_name": "HBoxView",
      "box_style": "",
      "children": [
       "IPY_MODEL_f0f9bdd310aa452ca672cf822f9ff9bf",
       "IPY_MODEL_075b15ab81154c2486e1d1ddd9a9a35c",
       "IPY_MODEL_c59e803d7d214ccd8dd06c7442479def"
      ],
      "layout": "IPY_MODEL_c7e522f5154a488391305445148de506"
     }
    },
    "adc6bace673742a1bcc6b8182d5b78de": {
     "model_module": "@jupyter-widgets/controls",
     "model_module_version": "1.5.0",
     "model_name": "FloatProgressModel",
     "state": {
      "_dom_classes": [],
      "_model_module": "@jupyter-widgets/controls",
      "_model_module_version": "1.5.0",
      "_model_name": "FloatProgressModel",
      "_view_count": null,
      "_view_module": "@jupyter-widgets/controls",
      "_view_module_version": "1.5.0",
      "_view_name": "ProgressView",
      "bar_style": "success",
      "description": "",
      "description_tooltip": null,
      "layout": "IPY_MODEL_1421e183f08841a1b8dc46e0051aea7a",
      "max": 1222317369,
      "min": 0,
      "orientation": "horizontal",
      "style": "IPY_MODEL_10fc5b2b06904117b6eca20b43cff8cb",
      "value": 1222317369
     }
    },
    "bd932369516640f2b648007c46b42ba2": {
     "model_module": "@jupyter-widgets/controls",
     "model_module_version": "1.5.0",
     "model_name": "DescriptionStyleModel",
     "state": {
      "_model_module": "@jupyter-widgets/controls",
      "_model_module_version": "1.5.0",
      "_model_name": "DescriptionStyleModel",
      "_view_count": null,
      "_view_module": "@jupyter-widgets/base",
      "_view_module_version": "1.2.0",
      "_view_name": "StyleView",
      "description_width": ""
     }
    },
    "c27b51d4b717470997bd46906943b5e7": {
     "model_module": "@jupyter-widgets/controls",
     "model_module_version": "1.5.0",
     "model_name": "HTMLModel",
     "state": {
      "_dom_classes": [],
      "_model_module": "@jupyter-widgets/controls",
      "_model_module_version": "1.5.0",
      "_model_name": "HTMLModel",
      "_view_count": null,
      "_view_module": "@jupyter-widgets/controls",
      "_view_module_version": "1.5.0",
      "_view_name": "HTMLView",
      "description": "",
      "description_tooltip": null,
      "layout": "IPY_MODEL_e5b7819cb3d14e9e85c2eeb22206f55c",
      "placeholder": "​",
      "style": "IPY_MODEL_9108ea1eb4f74d66beafaad259796840",
      "value": " 878k/878k [00:00&lt;00:00, 2.18MB/s]"
     }
    },
    "c59e803d7d214ccd8dd06c7442479def": {
     "model_module": "@jupyter-widgets/controls",
     "model_module_version": "1.5.0",
     "model_name": "HTMLModel",
     "state": {
      "_dom_classes": [],
      "_model_module": "@jupyter-widgets/controls",
      "_model_module_version": "1.5.0",
      "_model_name": "HTMLModel",
      "_view_count": null,
      "_view_module": "@jupyter-widgets/controls",
      "_view_module_version": "1.5.0",
      "_view_name": "HTMLView",
      "description": "",
      "description_tooltip": null,
      "layout": "IPY_MODEL_1cd348feb8884ad997576994d5934a53",
      "placeholder": "​",
      "style": "IPY_MODEL_ee7c7e54ecfa4864919b39423d1a22c5",
      "value": " 446k/446k [00:00&lt;00:00, 672kB/s]"
     }
    },
    "c758f7c6c13745a8939f24114d8bfb02": {
     "model_module": "@jupyter-widgets/base",
     "model_module_version": "1.2.0",
     "model_name": "LayoutModel",
     "state": {
      "_model_module": "@jupyter-widgets/base",
      "_model_module_version": "1.2.0",
      "_model_name": "LayoutModel",
      "_view_count": null,
      "_view_module": "@jupyter-widgets/base",
      "_view_module_version": "1.2.0",
      "_view_name": "LayoutView",
      "align_content": null,
      "align_items": null,
      "align_self": null,
      "border": null,
      "bottom": null,
      "display": null,
      "flex": null,
      "flex_flow": null,
      "grid_area": null,
      "grid_auto_columns": null,
      "grid_auto_flow": null,
      "grid_auto_rows": null,
      "grid_column": null,
      "grid_gap": null,
      "grid_row": null,
      "grid_template_areas": null,
      "grid_template_columns": null,
      "grid_template_rows": null,
      "height": null,
      "justify_content": null,
      "justify_items": null,
      "left": null,
      "margin": null,
      "max_height": null,
      "max_width": null,
      "min_height": null,
      "min_width": null,
      "object_fit": null,
      "object_position": null,
      "order": null,
      "overflow": null,
      "overflow_x": null,
      "overflow_y": null,
      "padding": null,
      "right": null,
      "top": null,
      "visibility": null,
      "width": null
     }
    },
    "c7e522f5154a488391305445148de506": {
     "model_module": "@jupyter-widgets/base",
     "model_module_version": "1.2.0",
     "model_name": "LayoutModel",
     "state": {
      "_model_module": "@jupyter-widgets/base",
      "_model_module_version": "1.2.0",
      "_model_name": "LayoutModel",
      "_view_count": null,
      "_view_module": "@jupyter-widgets/base",
      "_view_module_version": "1.2.0",
      "_view_name": "LayoutView",
      "align_content": null,
      "align_items": null,
      "align_self": null,
      "border": null,
      "bottom": null,
      "display": null,
      "flex": null,
      "flex_flow": null,
      "grid_area": null,
      "grid_auto_columns": null,
      "grid_auto_flow": null,
      "grid_auto_rows": null,
      "grid_column": null,
      "grid_gap": null,
      "grid_row": null,
      "grid_template_areas": null,
      "grid_template_columns": null,
      "grid_template_rows": null,
      "height": null,
      "justify_content": null,
      "justify_items": null,
      "left": null,
      "margin": null,
      "max_height": null,
      "max_width": null,
      "min_height": null,
      "min_width": null,
      "object_fit": null,
      "object_position": null,
      "order": null,
      "overflow": null,
      "overflow_x": null,
      "overflow_y": null,
      "padding": null,
      "right": null,
      "top": null,
      "visibility": null,
      "width": null
     }
    },
    "c9683dd3af024e6d90a71fde05c17416": {
     "model_module": "@jupyter-widgets/base",
     "model_module_version": "1.2.0",
     "model_name": "LayoutModel",
     "state": {
      "_model_module": "@jupyter-widgets/base",
      "_model_module_version": "1.2.0",
      "_model_name": "LayoutModel",
      "_view_count": null,
      "_view_module": "@jupyter-widgets/base",
      "_view_module_version": "1.2.0",
      "_view_name": "LayoutView",
      "align_content": null,
      "align_items": null,
      "align_self": null,
      "border": null,
      "bottom": null,
      "display": null,
      "flex": null,
      "flex_flow": null,
      "grid_area": null,
      "grid_auto_columns": null,
      "grid_auto_flow": null,
      "grid_auto_rows": null,
      "grid_column": null,
      "grid_gap": null,
      "grid_row": null,
      "grid_template_areas": null,
      "grid_template_columns": null,
      "grid_template_rows": null,
      "height": null,
      "justify_content": null,
      "justify_items": null,
      "left": null,
      "margin": null,
      "max_height": null,
      "max_width": null,
      "min_height": null,
      "min_width": null,
      "object_fit": null,
      "object_position": null,
      "order": null,
      "overflow": null,
      "overflow_x": null,
      "overflow_y": null,
      "padding": null,
      "right": null,
      "top": null,
      "visibility": null,
      "width": null
     }
    },
    "cab5b9ee0a7240e68625bb648f5929bf": {
     "model_module": "@jupyter-widgets/controls",
     "model_module_version": "1.5.0",
     "model_name": "DescriptionStyleModel",
     "state": {
      "_model_module": "@jupyter-widgets/controls",
      "_model_module_version": "1.5.0",
      "_model_name": "DescriptionStyleModel",
      "_view_count": null,
      "_view_module": "@jupyter-widgets/base",
      "_view_module_version": "1.2.0",
      "_view_name": "StyleView",
      "description_width": ""
     }
    },
    "cd510f88df5b42c3bee2ef8e675c8ba4": {
     "model_module": "@jupyter-widgets/controls",
     "model_module_version": "1.5.0",
     "model_name": "DescriptionStyleModel",
     "state": {
      "_model_module": "@jupyter-widgets/controls",
      "_model_module_version": "1.5.0",
      "_model_name": "DescriptionStyleModel",
      "_view_count": null,
      "_view_module": "@jupyter-widgets/base",
      "_view_module_version": "1.2.0",
      "_view_name": "StyleView",
      "description_width": ""
     }
    },
    "d2302b20f614452f9084567a9909e390": {
     "model_module": "@jupyter-widgets/base",
     "model_module_version": "1.2.0",
     "model_name": "LayoutModel",
     "state": {
      "_model_module": "@jupyter-widgets/base",
      "_model_module_version": "1.2.0",
      "_model_name": "LayoutModel",
      "_view_count": null,
      "_view_module": "@jupyter-widgets/base",
      "_view_module_version": "1.2.0",
      "_view_name": "LayoutView",
      "align_content": null,
      "align_items": null,
      "align_self": null,
      "border": null,
      "bottom": null,
      "display": null,
      "flex": null,
      "flex_flow": null,
      "grid_area": null,
      "grid_auto_columns": null,
      "grid_auto_flow": null,
      "grid_auto_rows": null,
      "grid_column": null,
      "grid_gap": null,
      "grid_row": null,
      "grid_template_areas": null,
      "grid_template_columns": null,
      "grid_template_rows": null,
      "height": null,
      "justify_content": null,
      "justify_items": null,
      "left": null,
      "margin": null,
      "max_height": null,
      "max_width": null,
      "min_height": null,
      "min_width": null,
      "object_fit": null,
      "object_position": null,
      "order": null,
      "overflow": null,
      "overflow_x": null,
      "overflow_y": null,
      "padding": null,
      "right": null,
      "top": null,
      "visibility": null,
      "width": null
     }
    },
    "d78a4db00cd74173a5c89c8c78876f7d": {
     "model_module": "@jupyter-widgets/base",
     "model_module_version": "1.2.0",
     "model_name": "LayoutModel",
     "state": {
      "_model_module": "@jupyter-widgets/base",
      "_model_module_version": "1.2.0",
      "_model_name": "LayoutModel",
      "_view_count": null,
      "_view_module": "@jupyter-widgets/base",
      "_view_module_version": "1.2.0",
      "_view_name": "LayoutView",
      "align_content": null,
      "align_items": null,
      "align_self": null,
      "border": null,
      "bottom": null,
      "display": null,
      "flex": null,
      "flex_flow": null,
      "grid_area": null,
      "grid_auto_columns": null,
      "grid_auto_flow": null,
      "grid_auto_rows": null,
      "grid_column": null,
      "grid_gap": null,
      "grid_row": null,
      "grid_template_areas": null,
      "grid_template_columns": null,
      "grid_template_rows": null,
      "height": null,
      "justify_content": null,
      "justify_items": null,
      "left": null,
      "margin": null,
      "max_height": null,
      "max_width": null,
      "min_height": null,
      "min_width": null,
      "object_fit": null,
      "object_position": null,
      "order": null,
      "overflow": null,
      "overflow_x": null,
      "overflow_y": null,
      "padding": null,
      "right": null,
      "top": null,
      "visibility": null,
      "width": null
     }
    },
    "d7dcc7a3fee647c399f63f66b546522a": {
     "model_module": "@jupyter-widgets/controls",
     "model_module_version": "1.5.0",
     "model_name": "HBoxModel",
     "state": {
      "_dom_classes": [],
      "_model_module": "@jupyter-widgets/controls",
      "_model_module_version": "1.5.0",
      "_model_name": "HBoxModel",
      "_view_count": null,
      "_view_module": "@jupyter-widgets/controls",
      "_view_module_version": "1.5.0",
      "_view_name": "HBoxView",
      "box_style": "",
      "children": [
       "IPY_MODEL_96228c45902a469ca8a7d5b1be5ddbba",
       "IPY_MODEL_11018141d36e409db77cca5f28cf8a44",
       "IPY_MODEL_c27b51d4b717470997bd46906943b5e7"
      ],
      "layout": "IPY_MODEL_8024ff61c5014e209c31b893bca3c443"
     }
    },
    "d890fea6fae04e5494565d0ddec9ba09": {
     "model_module": "@jupyter-widgets/controls",
     "model_module_version": "1.5.0",
     "model_name": "HTMLModel",
     "state": {
      "_dom_classes": [],
      "_model_module": "@jupyter-widgets/controls",
      "_model_module_version": "1.5.0",
      "_model_name": "HTMLModel",
      "_view_count": null,
      "_view_module": "@jupyter-widgets/controls",
      "_view_module_version": "1.5.0",
      "_view_name": "HTMLView",
      "description": "",
      "description_tooltip": null,
      "layout": "IPY_MODEL_d78a4db00cd74173a5c89c8c78876f7d",
      "placeholder": "​",
      "style": "IPY_MODEL_bd932369516640f2b648007c46b42ba2",
      "value": "Downloading: 100%"
     }
    },
    "e0c5befd6735457abeda9ba12d13fb6b": {
     "model_module": "@jupyter-widgets/controls",
     "model_module_version": "1.5.0",
     "model_name": "DescriptionStyleModel",
     "state": {
      "_model_module": "@jupyter-widgets/controls",
      "_model_module_version": "1.5.0",
      "_model_name": "DescriptionStyleModel",
      "_view_count": null,
      "_view_module": "@jupyter-widgets/base",
      "_view_module_version": "1.2.0",
      "_view_name": "StyleView",
      "description_width": ""
     }
    },
    "e3397b6fd6ab4c97b2f4b57781175381": {
     "model_module": "@jupyter-widgets/base",
     "model_module_version": "1.2.0",
     "model_name": "LayoutModel",
     "state": {
      "_model_module": "@jupyter-widgets/base",
      "_model_module_version": "1.2.0",
      "_model_name": "LayoutModel",
      "_view_count": null,
      "_view_module": "@jupyter-widgets/base",
      "_view_module_version": "1.2.0",
      "_view_name": "LayoutView",
      "align_content": null,
      "align_items": null,
      "align_self": null,
      "border": null,
      "bottom": null,
      "display": null,
      "flex": null,
      "flex_flow": null,
      "grid_area": null,
      "grid_auto_columns": null,
      "grid_auto_flow": null,
      "grid_auto_rows": null,
      "grid_column": null,
      "grid_gap": null,
      "grid_row": null,
      "grid_template_areas": null,
      "grid_template_columns": null,
      "grid_template_rows": null,
      "height": null,
      "justify_content": null,
      "justify_items": null,
      "left": null,
      "margin": null,
      "max_height": null,
      "max_width": null,
      "min_height": null,
      "min_width": null,
      "object_fit": null,
      "object_position": null,
      "order": null,
      "overflow": null,
      "overflow_x": null,
      "overflow_y": null,
      "padding": null,
      "right": null,
      "top": null,
      "visibility": null,
      "width": null
     }
    },
    "e5a04ea4c2d844eca70d890852523301": {
     "model_module": "@jupyter-widgets/base",
     "model_module_version": "1.2.0",
     "model_name": "LayoutModel",
     "state": {
      "_model_module": "@jupyter-widgets/base",
      "_model_module_version": "1.2.0",
      "_model_name": "LayoutModel",
      "_view_count": null,
      "_view_module": "@jupyter-widgets/base",
      "_view_module_version": "1.2.0",
      "_view_name": "LayoutView",
      "align_content": null,
      "align_items": null,
      "align_self": null,
      "border": null,
      "bottom": null,
      "display": null,
      "flex": null,
      "flex_flow": null,
      "grid_area": null,
      "grid_auto_columns": null,
      "grid_auto_flow": null,
      "grid_auto_rows": null,
      "grid_column": null,
      "grid_gap": null,
      "grid_row": null,
      "grid_template_areas": null,
      "grid_template_columns": null,
      "grid_template_rows": null,
      "height": null,
      "justify_content": null,
      "justify_items": null,
      "left": null,
      "margin": null,
      "max_height": null,
      "max_width": null,
      "min_height": null,
      "min_width": null,
      "object_fit": null,
      "object_position": null,
      "order": null,
      "overflow": null,
      "overflow_x": null,
      "overflow_y": null,
      "padding": null,
      "right": null,
      "top": null,
      "visibility": null,
      "width": null
     }
    },
    "e5b7819cb3d14e9e85c2eeb22206f55c": {
     "model_module": "@jupyter-widgets/base",
     "model_module_version": "1.2.0",
     "model_name": "LayoutModel",
     "state": {
      "_model_module": "@jupyter-widgets/base",
      "_model_module_version": "1.2.0",
      "_model_name": "LayoutModel",
      "_view_count": null,
      "_view_module": "@jupyter-widgets/base",
      "_view_module_version": "1.2.0",
      "_view_name": "LayoutView",
      "align_content": null,
      "align_items": null,
      "align_self": null,
      "border": null,
      "bottom": null,
      "display": null,
      "flex": null,
      "flex_flow": null,
      "grid_area": null,
      "grid_auto_columns": null,
      "grid_auto_flow": null,
      "grid_auto_rows": null,
      "grid_column": null,
      "grid_gap": null,
      "grid_row": null,
      "grid_template_areas": null,
      "grid_template_columns": null,
      "grid_template_rows": null,
      "height": null,
      "justify_content": null,
      "justify_items": null,
      "left": null,
      "margin": null,
      "max_height": null,
      "max_width": null,
      "min_height": null,
      "min_width": null,
      "object_fit": null,
      "object_position": null,
      "order": null,
      "overflow": null,
      "overflow_x": null,
      "overflow_y": null,
      "padding": null,
      "right": null,
      "top": null,
      "visibility": null,
      "width": null
     }
    },
    "ee7c7e54ecfa4864919b39423d1a22c5": {
     "model_module": "@jupyter-widgets/controls",
     "model_module_version": "1.5.0",
     "model_name": "DescriptionStyleModel",
     "state": {
      "_model_module": "@jupyter-widgets/controls",
      "_model_module_version": "1.5.0",
      "_model_name": "DescriptionStyleModel",
      "_view_count": null,
      "_view_module": "@jupyter-widgets/base",
      "_view_module_version": "1.2.0",
      "_view_name": "StyleView",
      "description_width": ""
     }
    },
    "eefb701cc9f2411e922f56697bb0c523": {
     "model_module": "@jupyter-widgets/controls",
     "model_module_version": "1.5.0",
     "model_name": "HTMLModel",
     "state": {
      "_dom_classes": [],
      "_model_module": "@jupyter-widgets/controls",
      "_model_module_version": "1.5.0",
      "_model_name": "HTMLModel",
      "_view_count": null,
      "_view_module": "@jupyter-widgets/controls",
      "_view_module_version": "1.5.0",
      "_view_name": "HTMLView",
      "description": "",
      "description_tooltip": null,
      "layout": "IPY_MODEL_c9683dd3af024e6d90a71fde05c17416",
      "placeholder": "​",
      "style": "IPY_MODEL_79830ff9b9e144bb9f9d116e2880fcbf",
      "value": " 1.76k/1.76k [00:00&lt;00:00, 41.8kB/s]"
     }
    },
    "ef76c2b047da4ed3a9d02925015fcf74": {
     "model_module": "@jupyter-widgets/base",
     "model_module_version": "1.2.0",
     "model_name": "LayoutModel",
     "state": {
      "_model_module": "@jupyter-widgets/base",
      "_model_module_version": "1.2.0",
      "_model_name": "LayoutModel",
      "_view_count": null,
      "_view_module": "@jupyter-widgets/base",
      "_view_module_version": "1.2.0",
      "_view_name": "LayoutView",
      "align_content": null,
      "align_items": null,
      "align_self": null,
      "border": null,
      "bottom": null,
      "display": null,
      "flex": null,
      "flex_flow": null,
      "grid_area": null,
      "grid_auto_columns": null,
      "grid_auto_flow": null,
      "grid_auto_rows": null,
      "grid_column": null,
      "grid_gap": null,
      "grid_row": null,
      "grid_template_areas": null,
      "grid_template_columns": null,
      "grid_template_rows": null,
      "height": null,
      "justify_content": null,
      "justify_items": null,
      "left": null,
      "margin": null,
      "max_height": null,
      "max_width": null,
      "min_height": null,
      "min_width": null,
      "object_fit": null,
      "object_position": null,
      "order": null,
      "overflow": null,
      "overflow_x": null,
      "overflow_y": null,
      "padding": null,
      "right": null,
      "top": null,
      "visibility": null,
      "width": null
     }
    },
    "f0f9bdd310aa452ca672cf822f9ff9bf": {
     "model_module": "@jupyter-widgets/controls",
     "model_module_version": "1.5.0",
     "model_name": "HTMLModel",
     "state": {
      "_dom_classes": [],
      "_model_module": "@jupyter-widgets/controls",
      "_model_module_version": "1.5.0",
      "_model_name": "HTMLModel",
      "_view_count": null,
      "_view_module": "@jupyter-widgets/controls",
      "_view_module_version": "1.5.0",
      "_view_name": "HTMLView",
      "description": "",
      "description_tooltip": null,
      "layout": "IPY_MODEL_25f8406e52d94587a69d3b2ab56f6561",
      "placeholder": "​",
      "style": "IPY_MODEL_6fd5d5c2f3bc48a5be774c3f2c05db67",
      "value": "Downloading: 100%"
     }
    },
    "f3ad446452614449ba3e1ee153c44822": {
     "model_module": "@jupyter-widgets/controls",
     "model_module_version": "1.5.0",
     "model_name": "HTMLModel",
     "state": {
      "_dom_classes": [],
      "_model_module": "@jupyter-widgets/controls",
      "_model_module_version": "1.5.0",
      "_model_name": "HTMLModel",
      "_view_count": null,
      "_view_module": "@jupyter-widgets/controls",
      "_view_module_version": "1.5.0",
      "_view_name": "HTMLView",
      "description": "",
      "description_tooltip": null,
      "layout": "IPY_MODEL_2c452cb9765045c6a856ce1c3c812bfb",
      "placeholder": "​",
      "style": "IPY_MODEL_2b4d6604472d493abf93042eb1153ff0",
      "value": " 1.14G/1.14G [00:35&lt;00:00, 47.6MB/s]"
     }
    },
    "fb05ffaeee9f45c5ba76744b481908bf": {
     "model_module": "@jupyter-widgets/controls",
     "model_module_version": "1.5.0",
     "model_name": "ProgressStyleModel",
     "state": {
      "_model_module": "@jupyter-widgets/controls",
      "_model_module_version": "1.5.0",
      "_model_name": "ProgressStyleModel",
      "_view_count": null,
      "_view_module": "@jupyter-widgets/base",
      "_view_module_version": "1.2.0",
      "_view_name": "StyleView",
      "bar_color": null,
      "description_width": ""
     }
    }
   }
  }
 },
 "nbformat": 4,
 "nbformat_minor": 4
}
